{
 "cells": [
  {
   "cell_type": "markdown",
   "metadata": {},
   "source": [
    "# TALLER 1"
   ]
  },
  {
   "cell_type": "code",
   "execution_count": 1,
   "metadata": {},
   "outputs": [],
   "source": [
    "import os\n",
    "import pandas as pd"
   ]
  },
  {
   "cell_type": "code",
   "execution_count": 2,
   "metadata": {},
   "outputs": [
    {
     "name": "stdout",
     "output_type": "stream",
     "text": [
      "Populating the interactive namespace from numpy and matplotlib\n"
     ]
    }
   ],
   "source": [
    "%pylab inline"
   ]
  },
  {
   "cell_type": "markdown",
   "metadata": {},
   "source": [
    "Aqui se importan los datos de todas las ciudades que se van a estudiar. "
   ]
  },
  {
   "cell_type": "code",
   "execution_count": 3,
   "metadata": {},
   "outputs": [],
   "source": [
    "base_dir = os.path.join( '.','data')\n",
    "output_dir = os.path.join( '.','output')\n",
    "ciudad = 'Barranquilla'\n",
    "fuente = 'IDEAM'\n",
    "serie_csv = os.path.join(base_dir,ciudad,fuente+'.csv')\n",
    "serie_1corta_barranquilla = pd.read_csv(serie_csv, sep = ';', encoding='latin-1')\n",
    "\n",
    "base_dir = os.path.join( '.','data')\n",
    "output_dir = os.path.join( '.','output')\n",
    "ciudad = 'Barranquilla'\n",
    "fuente = 'NREL'\n",
    "serie_csv = os.path.join(base_dir,ciudad,fuente+'.csv')\n",
    "serie_2larga_barranquilla = pd.read_csv(serie_csv, sep = ';', encoding='latin-1')"
   ]
  },
  {
   "cell_type": "code",
   "execution_count": 4,
   "metadata": {},
   "outputs": [],
   "source": [
    "base_dir = os.path.join( '.','data')\n",
    "output_dir = os.path.join( '.','output')\n",
    "ciudad = 'Cali'\n",
    "fuente = 'IDEAM'\n",
    "serie_csv = os.path.join(base_dir,ciudad,fuente+'.csv')\n",
    "serie_1corta_cali = pd.read_csv(serie_csv, sep = ';', encoding='latin-1')\n",
    "\n",
    "base_dir = os.path.join( '.','data')\n",
    "output_dir = os.path.join( '.','output')\n",
    "ciudad = 'Cali'\n",
    "fuente = 'NREL'\n",
    "serie_csv = os.path.join(base_dir,ciudad,fuente+'.csv')\n",
    "serie_2larga_cali = pd.read_csv(serie_csv, sep = ';', encoding='latin-1')"
   ]
  },
  {
   "cell_type": "code",
   "execution_count": 5,
   "metadata": {},
   "outputs": [],
   "source": [
    "base_dir = os.path.join( '.','data')\n",
    "output_dir = os.path.join( '.','output')\n",
    "ciudad = 'Carmendebolivar'\n",
    "fuente = 'IDEAM'\n",
    "serie_csv = os.path.join(base_dir,ciudad,fuente+'.csv')\n",
    "serie_1corta_carmen = pd.read_csv(serie_csv, sep = ';', encoding='latin-1')\n",
    "\n",
    "base_dir = os.path.join( '.','data')\n",
    "output_dir = os.path.join( '.','output')\n",
    "ciudad = 'Carmendebolivar'\n",
    "fuente = 'NREL'\n",
    "serie_csv = os.path.join(base_dir,ciudad,fuente+'.csv')\n",
    "serie_2larga_carmen = pd.read_csv(serie_csv, sep = ';', encoding='latin-1')"
   ]
  },
  {
   "cell_type": "code",
   "execution_count": 6,
   "metadata": {},
   "outputs": [],
   "source": [
    "base_dir = os.path.join( '.','data')\n",
    "output_dir = os.path.join( '.','output')\n",
    "ciudad = 'Medellin'\n",
    "fuente = 'IDEAM'\n",
    "serie_csv = os.path.join(base_dir,ciudad,fuente+'.csv')\n",
    "serie_1corta_medellin = pd.read_csv(serie_csv, sep = ';', encoding='latin-1')\n",
    "\n",
    "base_dir = os.path.join( '.','data')\n",
    "output_dir = os.path.join( '.','output')\n",
    "ciudad = 'Medellin'\n",
    "fuente = 'NREL'\n",
    "serie_csv = os.path.join(base_dir,ciudad,fuente+'.csv')\n",
    "serie_2larga_medellin = pd.read_csv(serie_csv, sep = ';', encoding='latin-1')"
   ]
  },
  {
   "cell_type": "code",
   "execution_count": 7,
   "metadata": {},
   "outputs": [],
   "source": [
    "base_dir = os.path.join( '.','data')\n",
    "output_dir = os.path.join( '.','output')\n",
    "ciudad = 'SantaMarta'\n",
    "fuente = 'IDEAM'\n",
    "serie_csv = os.path.join(base_dir,ciudad,fuente+'.csv')\n",
    "serie_1corta_santa = pd.read_csv(serie_csv, sep = ';', encoding='latin-1')\n",
    "\n",
    "base_dir = os.path.join( '.','data')\n",
    "output_dir = os.path.join( '.','output')\n",
    "ciudad = 'SantaMarta'\n",
    "fuente = 'NREL'\n",
    "serie_csv = os.path.join(base_dir,ciudad,fuente+'.csv')\n",
    "serie_2larga_santa = pd.read_csv(serie_csv, sep = ';', encoding='latin-1')"
   ]
  },
  {
   "cell_type": "code",
   "execution_count": 8,
   "metadata": {},
   "outputs": [],
   "source": [
    "base_dir = os.path.join( '.','data')\n",
    "output_dir = os.path.join( '.','output')\n",
    "ciudad = 'Sucre'\n",
    "fuente = 'IDEAM'\n",
    "serie_csv = os.path.join(base_dir,ciudad,fuente+'.csv')\n",
    "serie_1corta_sucre = pd.read_csv(serie_csv, sep = ';', encoding='latin-1')\n",
    "\n",
    "base_dir = os.path.join( '.','data')\n",
    "output_dir = os.path.join( '.','output')\n",
    "ciudad = 'Sucre'\n",
    "fuente = 'NREL'\n",
    "serie_csv = os.path.join(base_dir,ciudad,fuente+'.csv')\n",
    "serie_2larga_sucre = pd.read_csv(serie_csv, sep = ';', encoding='latin-1')"
   ]
  },
  {
   "cell_type": "code",
   "execution_count": 9,
   "metadata": {},
   "outputs": [],
   "source": [
    "base_dir = os.path.join( '.','data')\n",
    "output_dir = os.path.join( '.','output')\n",
    "ciudad = 'Uribia'\n",
    "fuente = 'IDEAM'\n",
    "serie_csv = os.path.join(base_dir,ciudad,fuente+'.csv')\n",
    "serie_1corta_uribia = pd.read_csv(serie_csv, sep = ';', encoding='latin-1')\n",
    "\n",
    "base_dir = os.path.join( '.','data')\n",
    "output_dir = os.path.join( '.','output')\n",
    "ciudad = 'Uribia'\n",
    "fuente = 'NREL'\n",
    "serie_csv = os.path.join(base_dir,ciudad,fuente+'.csv')\n",
    "serie_2larga_uribia = pd.read_csv(serie_csv, sep = ';', encoding='latin-1')"
   ]
  },
  {
   "cell_type": "code",
   "execution_count": 10,
   "metadata": {},
   "outputs": [],
   "source": [
    "base_dir = os.path.join( '.','data')\n",
    "output_dir = os.path.join( '.','output')\n",
    "ciudad = 'Valledupar'\n",
    "fuente = 'IDEAM'\n",
    "serie_csv = os.path.join(base_dir,ciudad,fuente+'.csv')\n",
    "serie_1corta_valledupar = pd.read_csv(serie_csv, sep = ';', encoding='latin-1')\n",
    "\n",
    "base_dir = os.path.join( '.','data')\n",
    "output_dir = os.path.join( '.','output')\n",
    "ciudad = 'Valledupar'\n",
    "fuente = 'NREL'\n",
    "serie_csv = os.path.join(base_dir,ciudad,fuente+'.csv')\n",
    "serie_2larga_valledupar = pd.read_csv(serie_csv, sep = ';', encoding='latin-1')"
   ]
  },
  {
   "cell_type": "markdown",
   "metadata": {},
   "source": [
    "## PUNTO 1"
   ]
  },
  {
   "cell_type": "markdown",
   "metadata": {},
   "source": [
    "Implementar una función para el cálculo de la ENFICC. La entrada a dicha función es una serie de 10 años en resolución horaria y la salida debe ser la ENFICC 99%, es decir la energía que se espera se puede superar el 99% del tiempo."
   ]
  },
  {
   "cell_type": "code",
   "execution_count": 11,
   "metadata": {},
   "outputs": [],
   "source": [
    "def calc_enficc (serie_horaria):\n",
    "    agnos = sorted(serie_horaria['AÑO'].unique())\n",
    "    \n",
    "    serie_mensual = pd.DataFrame(columns=[\"AÑO\", \"MES\", \"DIAS\", \"GHImes\"])\n",
    "    for agno in agnos:\n",
    "        for mes in range(1,13):\n",
    "            nombre_energia = list(serie_horaria)[-1]\n",
    "            dias = sorted(serie_horaria[(serie_horaria['AÑO'] == agno) & (serie_horaria['MES'] == mes)][\"DIA\"].unique())\n",
    "            ghi_mes = serie_horaria.loc[((serie_horaria[\"AÑO\"] == agno) & (serie_horaria[\"MES\"] == mes)),nombre_energia].sum()/1000\n",
    "            ghi_dict = {\"AÑO\":agno, \"MES\":mes, \"DIAS\":dias[-1], \"GHImes\":ghi_mes}\n",
    "            serie_mensual = serie_mensual.append(ghi_dict, ignore_index=True)\n",
    "  \n",
    "    serie_diaria = pd.DataFrame(columns=[\"AÑO\", \"MES\", \"GHIdiario\"])\n",
    "    for agno in agnos:\n",
    "        for mes in range(1,13):\n",
    "            dias = serie_mensual.loc[((serie_mensual[\"AÑO\"] == agno) & (serie_mensual[\"MES\"] == mes)),\"DIAS\"].item()\n",
    "            ghi_diario = serie_mensual.loc[((serie_mensual[\"AÑO\"] == agno) & (serie_mensual[\"MES\"] == mes)), \"GHImes\"].item()/dias\n",
    "            ghi_dict = {\"AÑO\":agno, \"MES\":mes, \"GHIdiario\":ghi_diario}\n",
    "            serie_diaria = serie_diaria.append(ghi_dict, ignore_index=True)\n",
    "            \n",
    "    ghi_diario_loc = serie_diaria\n",
    "    percentil = 0.01\n",
    "    enficc = ghi_diario_loc.quantile(q=percentil,numeric_only=True)[\"GHIdiario\"]\n",
    "    print('La ENFICC 99% es: ', enficc)\n",
    "    return enficc\n",
    "  "
   ]
  },
  {
   "cell_type": "markdown",
   "metadata": {},
   "source": [
    "## PUNTO 2"
   ]
  },
  {
   "cell_type": "markdown",
   "metadata": {},
   "source": [
    "Implementar una función que permita graficar la distribución de energía (Figura 38 del protocolo) y comparar entre diferentes series. La entrada corresponde a las diferentes series de 10 años en resolución horaria y la salida debe una gráfica similar a la mostrada en el documento."
   ]
  },
  {
   "cell_type": "code",
   "execution_count": 12,
   "metadata": {},
   "outputs": [],
   "source": [
    "def calc_grafica (serie_horaria1, serie_horaria2):\n",
    "    \n",
    "    agnos1 = sorted(serie_horaria1['AÑO'].unique())\n",
    "    serie_mensual1 = pd.DataFrame(columns=['AÑO', 'MES', 'DIAS', 'PromedioMes'])\n",
    "    for agno in agnos1:\n",
    "        for mes in range(1,13):\n",
    "            nombre_energia = list(serie_horaria1)[-1]\n",
    "            dias = sorted(serie_horaria1[(serie_horaria1['AÑO'] == agno) & (serie_horaria1['MES'] == mes)]['DIA'].unique())\n",
    "            ghi_mes1 = serie_horaria1.loc[((serie_horaria1['AÑO'] == agno) & (serie_horaria1['MES'] == mes)), nombre_energia].sum()/1000\n",
    "            ghi_dict1 = {'AÑO':agno, 'MES':mes, 'DIAS':dias[-1], 'PromedioMes':ghi_mes1}\n",
    "            serie_mensual1 = serie_mensual1.append(ghi_dict1, ignore_index=True)\n",
    "            \n",
    "    serie_diaria1 = pd.DataFrame(columns=['AÑO', 'MES', 'PromedioDia'])\n",
    "    for agno in agnos1:\n",
    "        for mes in range(1,13):\n",
    "            dias = serie_mensual1.loc[((serie_mensual1['AÑO'] == agno) & (serie_mensual1['MES'] == mes)),'DIAS'].item()\n",
    "            ghi_diario1 = serie_mensual1.loc[((serie_mensual1['AÑO'] == agno) & (serie_mensual1['MES'] == mes)),'PromedioMes'].item()/dias\n",
    "            ghi_dict1 = {'AÑO':agno, 'MES':mes, 'PromedioDia':ghi_diario1}\n",
    "            serie_diaria1 = serie_diaria1.append(ghi_dict1, ignore_index=True)\n",
    "            \n",
    "            ghi_diario_loc1 = serie_diaria1\n",
    "            datos_serie1 = sorted(ghi_diario_loc1[\"PromedioDia\"])\n",
    "            \n",
    "            \n",
    "    serie_mensual2 = pd.DataFrame(columns=['AÑO', 'MES', 'DIAS', 'PromedioMes'])\n",
    "    for agno in agnos1:\n",
    "        for mes in range(1,13):\n",
    "            nombre_energia = list(serie_horaria2)[-1]\n",
    "            dias = sorted(serie_horaria2[(serie_horaria2['AÑO'] == agno) & (serie_horaria2['MES'] == mes)]['DIA'].unique())\n",
    "            ghi_mes2 = serie_horaria2.loc[((serie_horaria2['AÑO'] == agno) & (serie_horaria2['MES'] == mes)), nombre_energia].sum()/1000\n",
    "            ghi_dict2 = {'AÑO':agno, 'MES':mes, 'DIAS':dias[-1], 'PromedioMes':ghi_mes2}\n",
    "            serie_mensual2 = serie_mensual2.append(ghi_dict2, ignore_index=True)\n",
    "            \n",
    "    serie_diaria2 = pd.DataFrame(columns=['AÑO', 'MES', 'PromedioDia'])\n",
    "    for agno in agnos1:\n",
    "        for mes in range(1,13):\n",
    "            dias = serie_mensual2.loc[((serie_mensual2['AÑO'] == agno) & (serie_mensual2['MES'] == mes)) ,'DIAS'].item()\n",
    "            ghi_diario = serie_mensual2.loc[((serie_mensual2['AÑO'] == agno) & (serie_mensual2['MES'] == mes)), 'PromedioMes'].item()/dias\n",
    "            ghi_dict2 = {'AÑO':agno, 'MES':mes, 'PromedioDia':ghi_diario}\n",
    "            serie_diaria2 = serie_diaria2.append(ghi_dict2, ignore_index=True)\n",
    "            \n",
    "            ghi_diario_loc2 = serie_diaria2\n",
    "            datos_serie2 = sorted(ghi_diario_loc2[\"PromedioDia\"])\n",
    "            \n",
    "    numdatos = range(len(datos_serie1))\n",
    "    pylab.xlabel(\"Datos\")\n",
    "    pylab.ylabel(\"Radiación\")\n",
    "    pylab.plot(numdatos,datos_serie1,'-b', label='IDEAM')\n",
    "    pylab.plot(numdatos,datos_serie2,'-r', label='NREL')\n",
    "    pylab.legend(loc='upper left')\n",
    "    figure = pylab.savefig(os.path.join(output_dir,'IDEAM.png'), dpi=600)\n",
    "    return figure\n",
    "    "
   ]
  },
  {
   "cell_type": "code",
   "execution_count": 13,
   "metadata": {},
   "outputs": [
    {
     "data": {
      "image/png": "[encoded data removed]",
      "text/plain": [
       "<matplotlib.figure.Figure at 0x7f00131f5ac8>"
      ]
     },
     "metadata": {},
     "output_type": "display_data"
    }
   ],
   "source": [
    "calc_grafica(serie_1corta_barranquilla, serie_2larga_barranquilla)"
   ]
  },
  {
   "cell_type": "markdown",
   "metadata": {},
   "source": [
    "## PUNTO 3"
   ]
  },
  {
   "cell_type": "markdown",
   "metadata": {},
   "source": [
    "Implementar una función para la Metodología Medición-Correlación-Predicción (MCP) basada en la relación de varianzas planteada en la sección 3.1.4 del protocolo. La entrada a la función es la serie de corto plazo medida en sitio (OBJ) y la serie secundaría basada en información satelital correspondiente a 10 años de medición (REF). La salida debe corresponder a la serie de largo plazo (10 año, resolución horaria) ajustada siguiendo la metodología MCP."
   ]
  },
  {
   "cell_type": "markdown",
   "metadata": {},
   "source": [
    "FUNCION PARA 3 MESES "
   ]
  },
  {
   "cell_type": "code",
   "execution_count": 14,
   "metadata": {},
   "outputs": [],
   "source": [
    "def ajuste_mcp_3 (serie_corta_OBJ,serie_larga_REF, anio, mes):\n",
    "    \n",
    "    mes1_obj= serie_corta_OBJ[(serie_corta_OBJ['AÑO'] == anio) & (serie_corta_OBJ['MES'] == mes)]\n",
    "    mes2_obj= serie_corta_OBJ[(serie_corta_OBJ['AÑO'] == anio) & (serie_corta_OBJ['MES'] == mes+1)]\n",
    "    mes3_obj= serie_corta_OBJ[(serie_corta_OBJ['AÑO'] == anio) & (serie_corta_OBJ['MES'] == mes+2)]\n",
    "   \n",
    "    mes1_nrel= serie_larga_REF[(serie_larga_REF['AÑO'] == anio) & (serie_larga_REF['MES'] == mes)]\n",
    "    mes2_nrel= serie_larga_REF[(serie_larga_REF['AÑO'] == anio) & (serie_larga_REF['MES'] == mes+1)]\n",
    "    mes3_nrel= serie_larga_REF[(serie_larga_REF['AÑO'] == anio) & (serie_larga_REF['MES'] == mes+2)]\n",
    "   \n",
    "    final_obj= [mes1_obj, mes2_obj, mes3_obj]\n",
    "    serie_ideam = pd.concat(final_obj)\n",
    "\n",
    "    final_nrel= [mes1_nrel, mes2_nrel, mes3_nrel]\n",
    "    serie_nrel = pd.concat(final_nrel)\n",
    "    \n",
    "    serie_final = serie_larga_REF.copy(deep=True)\n",
    "    medIdeam = serie_ideam['IDEAM'].mean()\n",
    "    medNREL = serie_nrel['NREL'].mean()\n",
    "    desvIdeam= serie_ideam['IDEAM'].std(ddof=0)\n",
    "    desvNREL= serie_nrel['NREL'].std(ddof=0)\n",
    "    ajuste=(medIdeam - (desvIdeam/desvNREL) * medNREL) + ((desvIdeam/desvNREL)*serie_larga_REF['NREL'])\n",
    "   \n",
    "    ajuste[ajuste<0]=0\n",
    "    \n",
    "    serie_final['NREL'] = ajuste\n",
    "    return serie_final"
   ]
  },
  {
   "cell_type": "markdown",
   "metadata": {},
   "source": [
    "SERIE PARA 6 MESES"
   ]
  },
  {
   "cell_type": "code",
   "execution_count": 15,
   "metadata": {},
   "outputs": [],
   "source": [
    "def ajuste_mcp_6 (serie_corta_OBJ,serie_larga_REF, anio, mes):\n",
    "    \n",
    "    mes1_obj= serie_corta_OBJ[(serie_corta_OBJ['AÑO'] == anio) & (serie_corta_OBJ['MES'] == mes)]\n",
    "    mes2_obj= serie_corta_OBJ[(serie_corta_OBJ['AÑO'] == anio) & (serie_corta_OBJ['MES'] == mes+1)]\n",
    "    mes3_obj= serie_corta_OBJ[(serie_corta_OBJ['AÑO'] == anio) & (serie_corta_OBJ['MES'] == mes+2)]\n",
    "    mes4_obj= serie_corta_OBJ[(serie_corta_OBJ['AÑO'] == anio) & (serie_corta_OBJ['MES'] == mes+3)]\n",
    "    mes5_obj= serie_corta_OBJ[(serie_corta_OBJ['AÑO'] == anio) & (serie_corta_OBJ['MES'] == mes+4)]\n",
    "    mes6_obj= serie_corta_OBJ[(serie_corta_OBJ['AÑO'] == anio) & (serie_corta_OBJ['MES'] == mes+5)]\n",
    "\n",
    "    mes1_nrel= serie_larga_REF[(serie_larga_REF['AÑO'] == anio) & (serie_larga_REF['MES'] == mes)]\n",
    "    mes2_nrel= serie_larga_REF[(serie_larga_REF['AÑO'] == anio) & (serie_larga_REF['MES'] == mes+1)]\n",
    "    mes3_nrel= serie_larga_REF[(serie_larga_REF['AÑO'] == anio) & (serie_larga_REF['MES'] == mes+2)]\n",
    "    mes4_nrel= serie_larga_REF[(serie_larga_REF['AÑO'] == anio) & (serie_larga_REF['MES'] == mes+3)]\n",
    "    mes5_nrel= serie_larga_REF[(serie_larga_REF['AÑO'] == anio) & (serie_larga_REF['MES'] == mes+4)]\n",
    "    mes6_nrel= serie_larga_REF[(serie_larga_REF['AÑO'] == anio) & (serie_larga_REF['MES'] == mes+5)]\n",
    "\n",
    "    final_obj= [mes1_obj, mes2_obj, mes3_obj, mes4_obj, mes5_obj, mes6_obj]\n",
    "    serie_ideam = pd.concat(final_obj)\n",
    "\n",
    "    final_nrel= [mes1_nrel, mes2_nrel, mes3_nrel, mes4_nrel, mes5_nrel, mes6_nrel ]\n",
    "    serie_nrel = pd.concat(final_nrel)\n",
    "    \n",
    "    serie_final = serie_larga_REF.copy(deep=True)\n",
    "    medIdeam = serie_ideam['IDEAM'].mean()\n",
    "    medNREL = serie_nrel['NREL'].mean()\n",
    "    desvIdeam= serie_ideam['IDEAM'].std(ddof=0)\n",
    "    desvNREL= serie_nrel['NREL'].std(ddof=0)\n",
    "    ajuste=(medIdeam - (desvIdeam/desvNREL) * medNREL) + ((desvIdeam/desvNREL)*serie_larga_REF['NREL'])\n",
    "   \n",
    "    ajuste[ajuste<0]=0\n",
    "    \n",
    "    serie_final['NREL'] = ajuste\n",
    "    return serie_final"
   ]
  },
  {
   "cell_type": "markdown",
   "metadata": {},
   "source": [
    "PARA 1 AÑO"
   ]
  },
  {
   "cell_type": "code",
   "execution_count": 16,
   "metadata": {},
   "outputs": [],
   "source": [
    "def ajuste_mcp_agno (serie_corta_OBJ,serie_larga_REF, anio, mes):\n",
    "    \n",
    "    mes1_obj= serie_corta_OBJ[(serie_corta_OBJ['AÑO'] == anio) & (serie_corta_OBJ['MES'] == mes)]\n",
    "    mes2_obj= serie_corta_OBJ[(serie_corta_OBJ['AÑO'] == anio) & (serie_corta_OBJ['MES'] == mes+1)]\n",
    "    mes3_obj= serie_corta_OBJ[(serie_corta_OBJ['AÑO'] == anio) & (serie_corta_OBJ['MES'] == mes+2)]\n",
    "    mes4_obj= serie_corta_OBJ[(serie_corta_OBJ['AÑO'] == anio) & (serie_corta_OBJ['MES'] == mes+3)]\n",
    "    mes5_obj= serie_corta_OBJ[(serie_corta_OBJ['AÑO'] == anio) & (serie_corta_OBJ['MES'] == mes+4)]\n",
    "    mes6_obj= serie_corta_OBJ[(serie_corta_OBJ['AÑO'] == anio) & (serie_corta_OBJ['MES'] == mes+5)]\n",
    "    mes7_obj= serie_corta_OBJ[(serie_corta_OBJ['AÑO'] == anio) & (serie_corta_OBJ['MES'] == mes+6)]\n",
    "    mes8_obj= serie_corta_OBJ[(serie_corta_OBJ['AÑO'] == anio) & (serie_corta_OBJ['MES'] == mes+7)]\n",
    "    mes9_obj= serie_corta_OBJ[(serie_corta_OBJ['AÑO'] == anio) & (serie_corta_OBJ['MES'] == mes+8)]\n",
    "    mes10_obj= serie_corta_OBJ[(serie_corta_OBJ['AÑO'] == anio) & (serie_corta_OBJ['MES'] == mes+9)]\n",
    "    mes11_obj= serie_corta_OBJ[(serie_corta_OBJ['AÑO'] == anio) & (serie_corta_OBJ['MES'] == mes+10)]\n",
    "    mes12_obj= serie_corta_OBJ[(serie_corta_OBJ['AÑO'] == anio) & (serie_corta_OBJ['MES'] == mes+11)]\n",
    "\n",
    "    mes1_nrel= serie_larga_REF[(serie_larga_REF['AÑO'] == anio) & (serie_larga_REF['MES'] == mes)]\n",
    "    mes2_nrel= serie_larga_REF[(serie_larga_REF['AÑO'] == anio) & (serie_larga_REF['MES'] == mes+1)]\n",
    "    mes3_nrel= serie_larga_REF[(serie_larga_REF['AÑO'] == anio) & (serie_larga_REF['MES'] == mes+2)]\n",
    "    mes4_nrel= serie_larga_REF[(serie_larga_REF['AÑO'] == anio) & (serie_larga_REF['MES'] == mes+3)]\n",
    "    mes5_nrel= serie_larga_REF[(serie_larga_REF['AÑO'] == anio) & (serie_larga_REF['MES'] == mes+4)]\n",
    "    mes6_nrel= serie_larga_REF[(serie_larga_REF['AÑO'] == anio) & (serie_larga_REF['MES'] == mes+5)]\n",
    "    mes7_nrel= serie_larga_REF[(serie_larga_REF['AÑO'] == anio) & (serie_larga_REF['MES'] == mes+6)]\n",
    "    mes8_nrel= serie_larga_REF[(serie_larga_REF['AÑO'] == anio) & (serie_larga_REF['MES'] == mes+7)]\n",
    "    mes9_nrel= serie_larga_REF[(serie_larga_REF['AÑO'] == anio) & (serie_larga_REF['MES'] == mes+8)]\n",
    "    mes10_nrel= serie_larga_REF[(serie_larga_REF['AÑO'] == anio) & (serie_larga_REF['MES'] == mes+9)]\n",
    "    mes11_nrel= serie_larga_REF[(serie_larga_REF['AÑO'] == anio) & (serie_larga_REF['MES'] == mes+10)]\n",
    "    mes12_nrel= serie_larga_REF[(serie_larga_REF['AÑO'] == anio) & (serie_larga_REF['MES'] == mes+11)]\n",
    "\n",
    "    final_obj= [mes1_obj, mes2_obj, mes3_obj, mes4_obj, mes5_obj, mes6_obj, mes7_obj, mes8_obj, mes9_obj, mes10_obj, mes11_obj, mes12_obj]\n",
    "    serie_ideam = pd.concat(final_obj)\n",
    "\n",
    "    final_nrel= [mes1_nrel, mes2_nrel, mes3_nrel, mes4_nrel, mes5_nrel, mes6_nrel, mes7_nrel, mes8_nrel, mes9_nrel, mes10_nrel, mes11_nrel, mes12_nrel ]\n",
    "    serie_nrel = pd.concat(final_nrel)\n",
    "    \n",
    "    serie_final = serie_larga_REF.copy(deep=True)\n",
    "    medIdeam = serie_ideam['IDEAM'].mean()\n",
    "    medNREL = serie_nrel['NREL'].mean()\n",
    "    desvIdeam= serie_ideam['IDEAM'].std(ddof=0)\n",
    "    desvNREL= serie_nrel['NREL'].std(ddof=0)\n",
    "    ajuste=(medIdeam - (desvIdeam/desvNREL) * medNREL) + ((desvIdeam/desvNREL)*serie_larga_REF['NREL'])\n",
    "   \n",
    "    ajuste[ajuste<0]=0\n",
    "    \n",
    "    serie_final['NREL'] = ajuste\n",
    "    return serie_final"
   ]
  },
  {
   "cell_type": "markdown",
   "metadata": {},
   "source": [
    "CÁLCULO DE PROMEDIO MENSUAL PARA GRÁFICAS"
   ]
  },
  {
   "cell_type": "code",
   "execution_count": 17,
   "metadata": {},
   "outputs": [],
   "source": [
    "def ghi_mensual(serie_horaria):\n",
    "    agnos = sorted(serie_1corta_barranquilla['AÑO'].unique())\n",
    "    ghi_df = pd.DataFrame(columns=[\"AÑO\", \"MES\", \"DIAS\", \"PROMEDIO\"])\n",
    "    for agno in agnos:\n",
    "        for mes in range(1,13):\n",
    "            nombre_energia = list(serie_horaria)[-1]\n",
    "            dias = sorted(serie_horaria[(serie_horaria['AÑO'] == agno) & (serie_horaria['MES'] == mes)][\"DIA\"].unique())\n",
    "            ghi_mes = serie_horaria.loc[((serie_horaria[\"AÑO\"] == agno) & (serie_horaria[\"MES\"] == mes)),nombre_energia].sum()/1000 \n",
    "            ghi_dict = {\"AÑO\":agno, \"MES\":mes, \"DIAS\":dias[-1],\"PROMEDIO\":ghi_mes}\n",
    "            ghi_df = ghi_df.append(ghi_dict, ignore_index=True)\n",
    "    return ghi_df\n",
    "\n",
    "def ghi_dia(serie_ghi_mensual):\n",
    "    agnos = sorted(serie_1corta_barranquilla['AÑO'].unique())\n",
    "    ghi_df = pd.DataFrame(columns=[\"AÑO\", \"MES\", \"PROMEDIO\"])\n",
    "    for agno in agnos:\n",
    "        for mes in range(1,13):\n",
    "            dias = serie_ghi_mensual.loc[((serie_ghi_mensual[\"AÑO\"] == agno) & (serie_ghi_mensual[\"MES\"] == mes)) ,\"DIAS\"].item()\n",
    "            ghi_diario = serie_ghi_mensual.loc[((serie_ghi_mensual[\"AÑO\"] == agno) & (serie_ghi_mensual[\"MES\"] == mes)), \"PROMEDIO\"].item()/dias\n",
    "            ghi_dict = {\"AÑO\":agno, \"MES\":mes, \"PROMEDIO\":ghi_diario}\n",
    "            ghi_df = ghi_df.append(ghi_dict, ignore_index=True)\n",
    "    return ghi_df"
   ]
  },
  {
   "cell_type": "markdown",
   "metadata": {},
   "source": [
    "## PUNTO 4"
   ]
  },
  {
   "cell_type": "markdown",
   "metadata": {},
   "source": [
    "Implemente funciones para el cálculo de los indicadores de error planteados en la sección 3.1.2 del protocolo, error RMS (RMSEn), error de sesgo medio (MBE) y Indice de Kolmogorov-Smagorinski (KSI%), la entrada a estas funciones son dos series de largo plazo (10 años y resolución horaria) y la salida el indicador de error dado."
   ]
  },
  {
   "cell_type": "code",
   "execution_count": 18,
   "metadata": {},
   "outputs": [],
   "source": [
    "def RMSEn (obs,mod):\n",
    "    agno=sorted(obs['AÑO'].unique())\n",
    "\n",
    "    serie1 = obs[(obs['AÑO'] >= agno[0])]\n",
    "    serie2= mod[(mod['AÑO'] >= agno[0])]\n",
    "     \n",
    "    numero1=serie1['IDEAM'].values\n",
    "    numero2= serie2['NREL'].values\n",
    "    maximo_obs= np.max(numero1) \n",
    "    minimo_obs= np.min(numero1)       \n",
    "    calculo= (np.sqrt (((numero1 - numero2)**2).mean()))/ (maximo_obs-minimo_obs) \n",
    "    return calculo"
   ]
  },
  {
   "cell_type": "code",
   "execution_count": 19,
   "metadata": {},
   "outputs": [],
   "source": [
    "def MBE (obs,mod):\n",
    "    agno=sorted(obs['AÑO'].unique())\n",
    "\n",
    "    serie1 = obs[(obs['AÑO'] >= agno[0])]\n",
    "    serie2= mod[(mod['AÑO'] >= agno[0])]\n",
    "    \n",
    "    numero1=serie1['IDEAM'].values\n",
    "    numero2= serie2['NREL'].values\n",
    "    resta= numero2-numero1\n",
    "    num= resta.sum()\n",
    "    den=numero1.sum()\n",
    "    calculo = num/den\n",
    "    return calculo"
   ]
  },
  {
   "cell_type": "code",
   "execution_count": 20,
   "metadata": {},
   "outputs": [],
   "source": [
    "import scipy\n",
    "from scipy import stats"
   ]
  },
  {
   "cell_type": "code",
   "execution_count": 21,
   "metadata": {},
   "outputs": [],
   "source": [
    "def KSI (obs,mod):\n",
    "    agno=sorted(obs['AÑO'].unique())\n",
    "\n",
    "    serie1 = obs[(obs['AÑO'] >= agno[0])]\n",
    "    serie2= mod[(mod['AÑO'] >= agno[0])]\n",
    "    \n",
    "    numero1=serie1['IDEAM'].values\n",
    "    numero2= serie2['NREL'].values\n",
    "    calculo= scipy.stats.mstats.ks_2samp(numero1,numero2)\n",
    "    return calculo"
   ]
  },
  {
   "cell_type": "markdown",
   "metadata": {},
   "source": [
    "## PUNTO 5"
   ]
  },
  {
   "cell_type": "markdown",
   "metadata": {},
   "source": [
    "Analice la eficacia del método MCP - relación de varianzas para reducir los indicadores de error y el error en la ENFICC para series de tiempo de diferentes localizaciones en el territorio nacional. Analice el efecto de la longitud de la series de tiempo medida en sitio (OBJ) y el año utilizado. Comente sus hallazgos y complete su análisis con gráficas de buena calidad."
   ]
  },
  {
   "cell_type": "markdown",
   "metadata": {},
   "source": [
    "## BARRANQUILLA"
   ]
  },
  {
   "cell_type": "code",
   "execution_count": 22,
   "metadata": {},
   "outputs": [],
   "source": [
    "serie_final_3barranquilla=ajuste_mcp_3(serie_1corta_barranquilla,serie_2larga_barranquilla,2015,1)\n",
    "serie_final_6barranquilla=ajuste_mcp_6(serie_1corta_barranquilla,serie_2larga_barranquilla,2011,1)\n",
    "serie_final_agnobarranquilla=ajuste_mcp_agno(serie_1corta_barranquilla,serie_2larga_barranquilla,2015,1)"
   ]
  },
  {
   "cell_type": "markdown",
   "metadata": {},
   "source": [
    "- CALCULO ENFICC"
   ]
  },
  {
   "cell_type": "code",
   "execution_count": 23,
   "metadata": {},
   "outputs": [
    {
     "name": "stdout",
     "output_type": "stream",
     "text": [
      "La ENFICC 99% es:  4.16059025817\n"
     ]
    },
    {
     "data": {
      "text/plain": [
       "4.1605902581736194"
      ]
     },
     "execution_count": 23,
     "metadata": {},
     "output_type": "execute_result"
    }
   ],
   "source": [
    "#Cálculo ENFICC para serie ideam \n",
    "calc_enficc(serie_1corta_barranquilla)"
   ]
  },
  {
   "cell_type": "code",
   "execution_count": 24,
   "metadata": {},
   "outputs": [
    {
     "name": "stdout",
     "output_type": "stream",
     "text": [
      "La ENFICC 99% es:  4.60594683333\n"
     ]
    },
    {
     "data": {
      "text/plain": [
       "4.6059468333333333"
      ]
     },
     "execution_count": 24,
     "metadata": {},
     "output_type": "execute_result"
    }
   ],
   "source": [
    "#Cálculo ENFICC para serie NREL\n",
    "calc_enficc(serie_2larga_barranquilla)"
   ]
  },
  {
   "cell_type": "code",
   "execution_count": 25,
   "metadata": {},
   "outputs": [
    {
     "name": "stdout",
     "output_type": "stream",
     "text": [
      "La ENFICC 99% es:  4.82816172815\n"
     ]
    },
    {
     "data": {
      "text/plain": [
       "4.8281617281463953"
      ]
     },
     "execution_count": 25,
     "metadata": {},
     "output_type": "execute_result"
    }
   ],
   "source": [
    "#Cálculo ENFICC para serie ajustada (primeros 3 meses del 2015)\n",
    "calc_enficc(serie_final_3barranquilla)"
   ]
  },
  {
   "cell_type": "code",
   "execution_count": 26,
   "metadata": {},
   "outputs": [
    {
     "name": "stdout",
     "output_type": "stream",
     "text": [
      "La ENFICC 99% es:  4.64977842756\n"
     ]
    },
    {
     "data": {
      "text/plain": [
       "4.64977842756113"
      ]
     },
     "execution_count": 26,
     "metadata": {},
     "output_type": "execute_result"
    }
   ],
   "source": [
    "#Cálculo ENFICC para serie ajustada (primeros 6 meses del 2011)\n",
    "calc_enficc(serie_final_6barranquilla)"
   ]
  },
  {
   "cell_type": "code",
   "execution_count": 27,
   "metadata": {},
   "outputs": [
    {
     "name": "stdout",
     "output_type": "stream",
     "text": [
      "La ENFICC 99% es:  4.60019987229\n"
     ]
    },
    {
     "data": {
      "text/plain": [
       "4.6001998722858275"
      ]
     },
     "execution_count": 27,
     "metadata": {},
     "output_type": "execute_result"
    }
   ],
   "source": [
    "#Cálculo ENFICC para serie ajustada (año del 2015)\n",
    "calc_enficc(serie_final_agnobarranquilla)"
   ]
  },
  {
   "cell_type": "markdown",
   "metadata": {},
   "source": [
    "- SERIE AJUSTADA Y GRÁFICA COMPARATIVA "
   ]
  },
  {
   "cell_type": "markdown",
   "metadata": {},
   "source": [
    "A continuación se muestra la serie ajustada teniendo en cuenta los primeros 3 meses del 2015."
   ]
  },
  {
   "cell_type": "markdown",
   "metadata": {},
   "source": [
    "Abajo se muestra la gráfica comparativa teniendo en cuenta los promedios mensuales por los años de la serie IDEAM (es la más cortas)\n"
   ]
  },
  {
   "cell_type": "code",
   "execution_count": 28,
   "metadata": {},
   "outputs": [
    {
     "data": {
      "text/plain": [
       "<matplotlib.legend.Legend at 0x7f00119d1668>"
      ]
     },
     "execution_count": 28,
     "metadata": {},
     "output_type": "execute_result"
    },
    {
     "data": {
      "image/png": "[encoded data removed]",
      "text/plain": [
       "<matplotlib.figure.Figure at 0x7f0011c53ba8>"
      ]
     },
     "metadata": {},
     "output_type": "display_data"
    }
   ],
   "source": [
    "ghi_mensual_ajust = ghi_mensual(serie_final_3barranquilla)\n",
    "ghi_diario_ajust = ghi_dia(ghi_mensual_ajust)\n",
    "datos_ajustados = sorted(ghi_diario_ajust[\"PROMEDIO\"])\n",
    "\n",
    "ghi_mensual_NREL = ghi_mensual(serie_2larga_barranquilla)\n",
    "ghi_diario_NREL = ghi_dia(ghi_mensual_NREL)\n",
    "datos_NREL = sorted(ghi_diario_NREL[\"PROMEDIO\"])\n",
    "\n",
    "ghi_mensual_IDEAM = ghi_mensual(serie_1corta_barranquilla)\n",
    "ghi_diario_IDEAM = ghi_dia(ghi_mensual_IDEAM)\n",
    "datos_IDEAM = sorted(ghi_diario_IDEAM[\"PROMEDIO\"])\n",
    "\n",
    "numdatos_ajustados = range(len(datos_ajustados))\n",
    "numdatos_NREL = range(len(datos_NREL))\n",
    "numdatos_IDEAM = range(len(datos_IDEAM))\n",
    "\n",
    "pylab.plot(numdatos_ajustados,datos_ajustados,'-k', label='Ajustados')\n",
    "pylab.plot(numdatos_NREL,datos_NREL,'-r', label='NREL')\n",
    "pylab.plot(numdatos_IDEAM,datos_IDEAM,'-b', label='IDEAM')\n",
    "pylab.legend(loc='upper left')"
   ]
  },
  {
   "cell_type": "markdown",
   "metadata": {},
   "source": [
    "Ahora, para poder analizar a profundidad el caso de Barranquilla, se aumento la cantidad de meses de referencia de la serie IDEAM de 3 a 6, y se cambio el año de estudio al 2011"
   ]
  },
  {
   "cell_type": "code",
   "execution_count": 29,
   "metadata": {},
   "outputs": [
    {
     "data": {
      "text/plain": [
       "<matplotlib.legend.Legend at 0x7f0011951e80>"
      ]
     },
     "execution_count": 29,
     "metadata": {},
     "output_type": "execute_result"
    },
    {
     "data": {
      "image/png": "[encoded data removed]",
      "text/plain": [
       "<matplotlib.figure.Figure at 0x7f0011c509e8>"
      ]
     },
     "metadata": {},
     "output_type": "display_data"
    }
   ],
   "source": [
    "ghi_mensual_ajust = ghi_mensual(serie_final_6barranquilla)\n",
    "ghi_diario_ajust = ghi_dia(ghi_mensual_ajust)\n",
    "datos_ajustados = sorted(ghi_diario_ajust[\"PROMEDIO\"])\n",
    "\n",
    "ghi_mensual_NREL = ghi_mensual(serie_2larga_barranquilla)\n",
    "ghi_diario_NREL = ghi_dia(ghi_mensual_NREL)\n",
    "datos_NREL = sorted(ghi_diario_NREL[\"PROMEDIO\"])\n",
    "\n",
    "ghi_mensual_IDEAM = ghi_mensual(serie_1corta_barranquilla)\n",
    "ghi_diario_IDEAM = ghi_dia(ghi_mensual_IDEAM)\n",
    "datos_IDEAM = sorted(ghi_diario_IDEAM[\"PROMEDIO\"])\n",
    "\n",
    "numdatos_ajustados = range(len(datos_ajustados))\n",
    "numdatos_NREL = range(len(datos_NREL))\n",
    "numdatos_IDEAM = range(len(datos_IDEAM))\n",
    "\n",
    "pylab.plot(numdatos_ajustados,datos_ajustados,'-k', label='Ajustados')\n",
    "pylab.plot(numdatos_NREL,datos_NREL,'-r', label='NREL')\n",
    "pylab.plot(numdatos_IDEAM,datos_IDEAM,'-b', label='IDEAM')\n",
    "pylab.legend(loc='upper left')"
   ]
  },
  {
   "cell_type": "markdown",
   "metadata": {},
   "source": [
    "Finalmente se evalura tomando como referencia el año 2015"
   ]
  },
  {
   "cell_type": "code",
   "execution_count": 30,
   "metadata": {},
   "outputs": [
    {
     "data": {
      "text/plain": [
       "<matplotlib.legend.Legend at 0x7f00118e03c8>"
      ]
     },
     "execution_count": 30,
     "metadata": {},
     "output_type": "execute_result"
    },
    {
     "data": {
      "image/png": "[encoded data removed]",
      "text/plain": [
       "<matplotlib.figure.Figure at 0x7f0011c5efd0>"
      ]
     },
     "metadata": {},
     "output_type": "display_data"
    }
   ],
   "source": [
    "ghi_mensual_ajust = ghi_mensual(serie_final_agnobarranquilla)\n",
    "ghi_diario_ajust = ghi_dia(ghi_mensual_ajust)\n",
    "datos_ajustados = sorted(ghi_diario_ajust[\"PROMEDIO\"])\n",
    "\n",
    "ghi_mensual_NREL = ghi_mensual(serie_2larga_barranquilla)\n",
    "ghi_diario_NREL = ghi_dia(ghi_mensual_NREL)\n",
    "datos_NREL = sorted(ghi_diario_NREL[\"PROMEDIO\"])\n",
    "\n",
    "ghi_mensual_IDEAM = ghi_mensual(serie_1corta_barranquilla)\n",
    "ghi_diario_IDEAM = ghi_dia(ghi_mensual_IDEAM)\n",
    "datos_IDEAM = sorted(ghi_diario_IDEAM[\"PROMEDIO\"])\n",
    "\n",
    "numdatos_ajustados = range(len(datos_ajustados))\n",
    "numdatos_NREL = range(len(datos_NREL))\n",
    "numdatos_IDEAM = range(len(datos_IDEAM))\n",
    "\n",
    "pylab.plot(numdatos_ajustados,datos_ajustados,'-k', label='Ajustados')\n",
    "pylab.plot(numdatos_NREL,datos_NREL,'-r', label='NREL')\n",
    "pylab.plot(numdatos_IDEAM,datos_IDEAM,'-b', label='IDEAM')\n",
    "pylab.legend(loc='upper left')"
   ]
  },
  {
   "cell_type": "markdown",
   "metadata": {},
   "source": [
    "- CÁLCULO DE ERROR Y ANÁLISIS "
   ]
  },
  {
   "cell_type": "markdown",
   "metadata": {},
   "source": [
    "ERROR RMSEn "
   ]
  },
  {
   "cell_type": "code",
   "execution_count": 31,
   "metadata": {},
   "outputs": [
    {
     "data": {
      "text/plain": [
       "0.1067605497750234"
      ]
     },
     "execution_count": 31,
     "metadata": {},
     "output_type": "execute_result"
    }
   ],
   "source": [
    "#Cálculo de error entre serie IDEAM y serie NREL\n",
    "RMSEn (serie_1corta_barranquilla,serie_2larga_barranquilla)"
   ]
  },
  {
   "cell_type": "markdown",
   "metadata": {},
   "source": [
    "Primeros 3 meses del 2015"
   ]
  },
  {
   "cell_type": "code",
   "execution_count": 32,
   "metadata": {},
   "outputs": [
    {
     "data": {
      "text/plain": [
       "0.11214338450654961"
      ]
     },
     "execution_count": 32,
     "metadata": {},
     "output_type": "execute_result"
    }
   ],
   "source": [
    "#Cálculo de error entre serie IDEAM y serie ajustada\n",
    "RMSEn (serie_1corta_barranquilla,serie_final_3barranquilla)"
   ]
  },
  {
   "cell_type": "markdown",
   "metadata": {},
   "source": [
    "Primeros 6 meses del 2011"
   ]
  },
  {
   "cell_type": "code",
   "execution_count": 33,
   "metadata": {},
   "outputs": [
    {
     "data": {
      "text/plain": [
       "0.10818923767860822"
      ]
     },
     "execution_count": 33,
     "metadata": {},
     "output_type": "execute_result"
    }
   ],
   "source": [
    "#Cálculo de error entre serie IDEAM y serie ajustada\n",
    "RMSEn (serie_1corta_barranquilla,serie_final_6barranquilla)"
   ]
  },
  {
   "cell_type": "markdown",
   "metadata": {},
   "source": [
    "Año del 2015"
   ]
  },
  {
   "cell_type": "code",
   "execution_count": 34,
   "metadata": {},
   "outputs": [
    {
     "data": {
      "text/plain": [
       "0.10779093686832944"
      ]
     },
     "execution_count": 34,
     "metadata": {},
     "output_type": "execute_result"
    }
   ],
   "source": [
    "#Cálculo de error entre serie IDEAM y serie ajustada\n",
    "RMSEn (serie_1corta_barranquilla,serie_final_agnobarranquilla)"
   ]
  },
  {
   "cell_type": "markdown",
   "metadata": {},
   "source": [
    "ERROR MBE"
   ]
  },
  {
   "cell_type": "code",
   "execution_count": 35,
   "metadata": {},
   "outputs": [
    {
     "data": {
      "text/plain": [
       "0.036987540425613495"
      ]
     },
     "execution_count": 35,
     "metadata": {},
     "output_type": "execute_result"
    }
   ],
   "source": [
    "#Cálculo de error entre serie IDEAM y serie NREL\n",
    "MBE (serie_1corta_barranquilla,serie_2larga_barranquilla)"
   ]
  },
  {
   "cell_type": "markdown",
   "metadata": {},
   "source": [
    "Primeros 3 meses del 2015"
   ]
  },
  {
   "cell_type": "code",
   "execution_count": 36,
   "metadata": {},
   "outputs": [
    {
     "data": {
      "text/plain": [
       "0.09117851452218434"
      ]
     },
     "execution_count": 36,
     "metadata": {},
     "output_type": "execute_result"
    }
   ],
   "source": [
    "#Cálculo de error entre serie IDEAM y serie ajustada\n",
    "MBE (serie_1corta_barranquilla,serie_final_3barranquilla)"
   ]
  },
  {
   "cell_type": "markdown",
   "metadata": {},
   "source": [
    "Primeros 6 meses del 2011"
   ]
  },
  {
   "cell_type": "code",
   "execution_count": 37,
   "metadata": {},
   "outputs": [
    {
     "data": {
      "text/plain": [
       "0.049872928177072333"
      ]
     },
     "execution_count": 37,
     "metadata": {},
     "output_type": "execute_result"
    }
   ],
   "source": [
    "#Cálculo de error entre serie IDEAM y serie NREL\n",
    "MBE (serie_1corta_barranquilla,serie_final_6barranquilla)"
   ]
  },
  {
   "cell_type": "markdown",
   "metadata": {},
   "source": [
    "Año del 2015"
   ]
  },
  {
   "cell_type": "code",
   "execution_count": 38,
   "metadata": {},
   "outputs": [
    {
     "data": {
      "text/plain": [
       "0.040415528174546127"
      ]
     },
     "execution_count": 38,
     "metadata": {},
     "output_type": "execute_result"
    }
   ],
   "source": [
    "#Cálculo de error entre serie IDEAM y serie NREL\n",
    "MBE (serie_1corta_barranquilla,serie_final_agnobarranquilla)"
   ]
  },
  {
   "cell_type": "markdown",
   "metadata": {},
   "source": [
    "Para Barranquilla, con respecto al cálculo de la ENFICC, se puede observar que los datos son muy similares sin imortar si se toma como base para realizar el ajuste, un periodo largo o corto. Sin embargo, se evidencia que el mayor dato de ENFICC se obtiene en la serie ajustda con menor cantidad de meses como imput para el calculo del ajuste, lo cual tambien se puede explicar porque el periodo tomado como referencia es una epoca donde se presentó el fenómeno de la niña.\n",
    "Gráficamente se puede observar que la calidad del ajuste esta intimamente realacionado con la cantidad de meses que se tenga en cuenta como base para el cálculo, pues en este caso se ve que la serie de ajuste se encuentra muy cercana a la serie ideam. Esto igual se ve reflejado en la magnitud de los errores calculados, pues en el caso de tres meses, se observa un porcentaje mayor con respecto a los otros casos. Adicionalmente, se puede ver que en la mayoria del tiempo, se esta sobrestimando la radiación. "
   ]
  },
  {
   "cell_type": "markdown",
   "metadata": {},
   "source": [
    "## CALI"
   ]
  },
  {
   "cell_type": "code",
   "execution_count": 44,
   "metadata": {},
   "outputs": [],
   "source": [
    "serie_final_3cali=ajuste_mcp_3(serie_1corta_cali,serie_2larga_cali,2015,1)\n",
    "serie_final_6cali=ajuste_mcp_6(serie_1corta_cali,serie_2larga_cali,2011,1)\n",
    "serie_final_agnocali=ajuste_mcp_agno(serie_1corta_cali,serie_2larga_cali,2015,1)"
   ]
  },
  {
   "cell_type": "markdown",
   "metadata": {},
   "source": [
    "- CALCULO ENFICC"
   ]
  },
  {
   "cell_type": "code",
   "execution_count": 45,
   "metadata": {},
   "outputs": [
    {
     "name": "stdout",
     "output_type": "stream",
     "text": [
      "La ENFICC 99% es:  3.33077931605\n"
     ]
    },
    {
     "data": {
      "text/plain": [
       "3.3307793160475607"
      ]
     },
     "execution_count": 45,
     "metadata": {},
     "output_type": "execute_result"
    }
   ],
   "source": [
    "#Cálculo ENFICC para serie ideam \n",
    "calc_enficc(serie_1corta_cali)"
   ]
  },
  {
   "cell_type": "code",
   "execution_count": 46,
   "metadata": {},
   "outputs": [
    {
     "name": "stdout",
     "output_type": "stream",
     "text": [
      "La ENFICC 99% es:  4.36085916667\n"
     ]
    },
    {
     "data": {
      "text/plain": [
       "4.3608591666666667"
      ]
     },
     "execution_count": 46,
     "metadata": {},
     "output_type": "execute_result"
    }
   ],
   "source": [
    "#Cálculo ENFICC para serie NREL\n",
    "calc_enficc(serie_2larga_cali)"
   ]
  },
  {
   "cell_type": "code",
   "execution_count": 47,
   "metadata": {},
   "outputs": [
    {
     "name": "stdout",
     "output_type": "stream",
     "text": [
      "La ENFICC 99% es:  3.7759804998\n"
     ]
    },
    {
     "data": {
      "text/plain": [
       "3.7759804998036035"
      ]
     },
     "execution_count": 47,
     "metadata": {},
     "output_type": "execute_result"
    }
   ],
   "source": [
    "#Cálculo ENFICC para serie ajustada (primeros 3 meses del 2015)\n",
    "calc_enficc(serie_final_3cali)"
   ]
  },
  {
   "cell_type": "code",
   "execution_count": 48,
   "metadata": {},
   "outputs": [
    {
     "name": "stdout",
     "output_type": "stream",
     "text": [
      "La ENFICC 99% es:  3.59241501042\n"
     ]
    },
    {
     "data": {
      "text/plain": [
       "3.592415010415015"
      ]
     },
     "execution_count": 48,
     "metadata": {},
     "output_type": "execute_result"
    }
   ],
   "source": [
    "#Cálculo ENFICC para serie ajustada (primeros 6 meses del 2011)\n",
    "calc_enficc(serie_final_6cali)"
   ]
  },
  {
   "cell_type": "code",
   "execution_count": 49,
   "metadata": {},
   "outputs": [
    {
     "name": "stdout",
     "output_type": "stream",
     "text": [
      "La ENFICC 99% es:  3.90173967255\n"
     ]
    },
    {
     "data": {
      "text/plain": [
       "3.9017396725484517"
      ]
     },
     "execution_count": 49,
     "metadata": {},
     "output_type": "execute_result"
    }
   ],
   "source": [
    "#Cálculo ENFICC para serie ajustada (año del 2015)\n",
    "calc_enficc(serie_final_agnocali)"
   ]
  },
  {
   "cell_type": "markdown",
   "metadata": {},
   "source": [
    "- SERIE AJUSTADA Y GRÁFICA COMPARATIVA "
   ]
  },
  {
   "cell_type": "markdown",
   "metadata": {},
   "source": [
    "A continuación se muestra la serie ajustada teniendo en cuenta los primeros 3 meses del 2015."
   ]
  },
  {
   "cell_type": "markdown",
   "metadata": {},
   "source": [
    "Abajo se muestra la gráfica comparativa teniendo en cuenta los promedios mensuales por los años de la serie IDEAM (es la más cortas)\n"
   ]
  },
  {
   "cell_type": "code",
   "execution_count": 50,
   "metadata": {},
   "outputs": [
    {
     "data": {
      "text/plain": [
       "<matplotlib.legend.Legend at 0x7f00119214a8>"
      ]
     },
     "execution_count": 50,
     "metadata": {},
     "output_type": "execute_result"
    },
    {
     "data": {
      "image/png": "[encoded data removed]",
      "text/plain": [
       "<matplotlib.figure.Figure at 0x7f0011909e80>"
      ]
     },
     "metadata": {},
     "output_type": "display_data"
    }
   ],
   "source": [
    "ghi_mensual_ajust = ghi_mensual(serie_final_3cali)\n",
    "ghi_diario_ajust = ghi_dia(ghi_mensual_ajust)\n",
    "datos_ajustados = sorted(ghi_diario_ajust[\"PROMEDIO\"])\n",
    "\n",
    "ghi_mensual_NREL = ghi_mensual(serie_2larga_cali)\n",
    "ghi_diario_NREL = ghi_dia(ghi_mensual_NREL)\n",
    "datos_NREL = sorted(ghi_diario_NREL[\"PROMEDIO\"])\n",
    "\n",
    "ghi_mensual_IDEAM = ghi_mensual(serie_1corta_cali)\n",
    "ghi_diario_IDEAM = ghi_dia(ghi_mensual_IDEAM)\n",
    "datos_IDEAM = sorted(ghi_diario_IDEAM[\"PROMEDIO\"])\n",
    "\n",
    "numdatos_ajustados = range(len(datos_ajustados))\n",
    "numdatos_NREL = range(len(datos_NREL))\n",
    "numdatos_IDEAM = range(len(datos_IDEAM))\n",
    "\n",
    "pylab.plot(numdatos_ajustados,datos_ajustados,'-k', label='Ajustados')\n",
    "pylab.plot(numdatos_NREL,datos_NREL,'-r', label='NREL')\n",
    "pylab.plot(numdatos_IDEAM,datos_IDEAM,'-b', label='IDEAM')\n",
    "pylab.legend(loc='upper left')"
   ]
  },
  {
   "cell_type": "markdown",
   "metadata": {},
   "source": [
    "Ahora, para poder analizar a profundidad el caso de Cali, se aumento la cantidad de meses de referencia de la serie IDEAM de 3 a 6, y se cambio el año de estudio al 2011"
   ]
  },
  {
   "cell_type": "code",
   "execution_count": 51,
   "metadata": {},
   "outputs": [
    {
     "data": {
      "text/plain": [
       "<matplotlib.legend.Legend at 0x7f001158b7b8>"
      ]
     },
     "execution_count": 51,
     "metadata": {},
     "output_type": "execute_result"
    },
    {
     "data": {
      "image/png": "[encoded data removed]",
      "text/plain": [
       "<matplotlib.figure.Figure at 0x7f00119d1780>"
      ]
     },
     "metadata": {},
     "output_type": "display_data"
    }
   ],
   "source": [
    "ghi_mensual_ajust = ghi_mensual(serie_final_6cali)\n",
    "ghi_diario_ajust = ghi_dia(ghi_mensual_ajust)\n",
    "datos_ajustados = sorted(ghi_diario_ajust[\"PROMEDIO\"])\n",
    "\n",
    "ghi_mensual_NREL = ghi_mensual(serie_2larga_cali)\n",
    "ghi_diario_NREL = ghi_dia(ghi_mensual_NREL)\n",
    "datos_NREL = sorted(ghi_diario_NREL[\"PROMEDIO\"])\n",
    "\n",
    "ghi_mensual_IDEAM = ghi_mensual(serie_1corta_cali)\n",
    "ghi_diario_IDEAM = ghi_dia(ghi_mensual_IDEAM)\n",
    "datos_IDEAM = sorted(ghi_diario_IDEAM[\"PROMEDIO\"])\n",
    "\n",
    "numdatos_ajustados = range(len(datos_ajustados))\n",
    "numdatos_NREL = range(len(datos_NREL))\n",
    "numdatos_IDEAM = range(len(datos_IDEAM))\n",
    "\n",
    "pylab.plot(numdatos_ajustados,datos_ajustados,'-k', label='Ajustados')\n",
    "pylab.plot(numdatos_NREL,datos_NREL,'-r', label='NREL')\n",
    "pylab.plot(numdatos_IDEAM,datos_IDEAM,'-b', label='IDEAM')\n",
    "pylab.legend(loc='upper left')"
   ]
  },
  {
   "cell_type": "markdown",
   "metadata": {},
   "source": [
    "Finalmente se evaluara teniendo como referencia el año 2015"
   ]
  },
  {
   "cell_type": "code",
   "execution_count": 52,
   "metadata": {},
   "outputs": [
    {
     "data": {
      "text/plain": [
       "<matplotlib.legend.Legend at 0x7f0011512668>"
      ]
     },
     "execution_count": 52,
     "metadata": {},
     "output_type": "execute_result"
    },
    {
     "data": {
      "image/png": "[encoded data removed]",
      "text/plain": [
       "<matplotlib.figure.Figure at 0x7f0011c597b8>"
      ]
     },
     "metadata": {},
     "output_type": "display_data"
    }
   ],
   "source": [
    "ghi_mensual_ajust = ghi_mensual(serie_final_agnocali)\n",
    "ghi_diario_ajust = ghi_dia(ghi_mensual_ajust)\n",
    "datos_ajustados = sorted(ghi_diario_ajust[\"PROMEDIO\"])\n",
    "\n",
    "ghi_mensual_NREL = ghi_mensual(serie_2larga_cali)\n",
    "ghi_diario_NREL = ghi_dia(ghi_mensual_NREL)\n",
    "datos_NREL = sorted(ghi_diario_NREL[\"PROMEDIO\"])\n",
    "\n",
    "ghi_mensual_IDEAM = ghi_mensual(serie_1corta_cali)\n",
    "ghi_diario_IDEAM = ghi_dia(ghi_mensual_IDEAM)\n",
    "datos_IDEAM = sorted(ghi_diario_IDEAM[\"PROMEDIO\"])\n",
    "\n",
    "numdatos_ajustados = range(len(datos_ajustados))\n",
    "numdatos_NREL = range(len(datos_NREL))\n",
    "numdatos_IDEAM = range(len(datos_IDEAM))\n",
    "\n",
    "pylab.plot(numdatos_ajustados,datos_ajustados,'-k', label='Ajustados')\n",
    "pylab.plot(numdatos_NREL,datos_NREL,'-r', label='NREL')\n",
    "pylab.plot(numdatos_IDEAM,datos_IDEAM,'-b', label='IDEAM')\n",
    "pylab.legend(loc='upper left')"
   ]
  },
  {
   "cell_type": "markdown",
   "metadata": {},
   "source": [
    "- CÁLCULO DE ERROR Y ANÁLISIS "
   ]
  },
  {
   "cell_type": "markdown",
   "metadata": {},
   "source": [
    "ERROR RMSEn "
   ]
  },
  {
   "cell_type": "code",
   "execution_count": 53,
   "metadata": {},
   "outputs": [
    {
     "data": {
      "text/plain": [
       "0.11968840295680064"
      ]
     },
     "execution_count": 53,
     "metadata": {},
     "output_type": "execute_result"
    }
   ],
   "source": [
    "#Cálculo de error entre serie IDEAM y serie NREL\n",
    "RMSEn (serie_1corta_cali,serie_2larga_cali)"
   ]
  },
  {
   "cell_type": "markdown",
   "metadata": {},
   "source": [
    "Primeros 3 meses del 2015"
   ]
  },
  {
   "cell_type": "code",
   "execution_count": 54,
   "metadata": {},
   "outputs": [
    {
     "data": {
      "text/plain": [
       "0.10307579355444399"
      ]
     },
     "execution_count": 54,
     "metadata": {},
     "output_type": "execute_result"
    }
   ],
   "source": [
    "#Cálculo de error entre serie IDEAM y serie ajustada\n",
    "RMSEn (serie_1corta_cali,serie_final_3cali)"
   ]
  },
  {
   "cell_type": "markdown",
   "metadata": {},
   "source": [
    "Primeros 6 meses del 2011"
   ]
  },
  {
   "cell_type": "code",
   "execution_count": 55,
   "metadata": {},
   "outputs": [
    {
     "data": {
      "text/plain": [
       "0.10101977523504634"
      ]
     },
     "execution_count": 55,
     "metadata": {},
     "output_type": "execute_result"
    }
   ],
   "source": [
    "#Cálculo de error entre serie IDEAM y serie ajustada\n",
    "RMSEn (serie_1corta_cali,serie_final_6cali)"
   ]
  },
  {
   "cell_type": "markdown",
   "metadata": {},
   "source": [
    "Año del 2015"
   ]
  },
  {
   "cell_type": "code",
   "execution_count": 56,
   "metadata": {},
   "outputs": [
    {
     "data": {
      "text/plain": [
       "0.10596975848753311"
      ]
     },
     "execution_count": 56,
     "metadata": {},
     "output_type": "execute_result"
    }
   ],
   "source": [
    "#Cálculo de error entre serie IDEAM y serie ajustada\n",
    "RMSEn (serie_1corta_cali,serie_final_agnocali)"
   ]
  },
  {
   "cell_type": "markdown",
   "metadata": {},
   "source": [
    "ERROR MBE"
   ]
  },
  {
   "cell_type": "code",
   "execution_count": 57,
   "metadata": {},
   "outputs": [
    {
     "data": {
      "text/plain": [
       "0.1925535745682122"
      ]
     },
     "execution_count": 57,
     "metadata": {},
     "output_type": "execute_result"
    }
   ],
   "source": [
    "#Cálculo de error entre serie IDEAM y serie NREL\n",
    "MBE (serie_1corta_cali,serie_2larga_cali)"
   ]
  },
  {
   "cell_type": "markdown",
   "metadata": {},
   "source": [
    "Primeros 3 meses del 2015"
   ]
  },
  {
   "cell_type": "code",
   "execution_count": 58,
   "metadata": {},
   "outputs": [
    {
     "data": {
      "text/plain": [
       "0.035588538016185625"
      ]
     },
     "execution_count": 58,
     "metadata": {},
     "output_type": "execute_result"
    }
   ],
   "source": [
    "#Cálculo de error entre serie IDEAM y serie ajustada\n",
    "MBE (serie_1corta_cali,serie_final_3cali)"
   ]
  },
  {
   "cell_type": "markdown",
   "metadata": {},
   "source": [
    "Primeros 6 meses del 2011"
   ]
  },
  {
   "cell_type": "code",
   "execution_count": 59,
   "metadata": {},
   "outputs": [
    {
     "data": {
      "text/plain": [
       "-0.013573602652508785"
      ]
     },
     "execution_count": 59,
     "metadata": {},
     "output_type": "execute_result"
    }
   ],
   "source": [
    "#Cálculo de error entre serie IDEAM y serie NREL\n",
    "MBE (serie_1corta_cali,serie_final_6cali)"
   ]
  },
  {
   "cell_type": "markdown",
   "metadata": {},
   "source": [
    "Año del 2015"
   ]
  },
  {
   "cell_type": "code",
   "execution_count": 60,
   "metadata": {},
   "outputs": [
    {
     "data": {
      "text/plain": [
       "0.071007883241418421"
      ]
     },
     "execution_count": 60,
     "metadata": {},
     "output_type": "execute_result"
    }
   ],
   "source": [
    "#Cálculo de error entre serie IDEAM y serie NREL\n",
    "MBE (serie_1corta_cali,serie_final_agnocali)"
   ]
  },
  {
   "cell_type": "markdown",
   "metadata": {},
   "source": [
    "Para Cali, con respecto al cálculo de la ENFICC, se puede observar que nuevamente los datos son muy similares sin imortar si se toma como base para realizar el ajuste, un periodo largo o corto. Sin embargo, se evidencia que el mayor dato de ENFICC, al contrario que en Barranquilla, se obtiene en la serie ajustda con mayor cantidad de meses como imput para el calculo del ajuste, pero igualmente en este periodo tambien se esta teniendo en cuenta el impacto que tiene el fenómeno de la niña en la radiación medida. Gráficamente se puede observar que la calidad del ajuste esta intimamente realacionado con la cantidad de meses que se tenga en cuenta como base para el cálculo- Esto se ve reflejado en la magnitud de los errores calculados, pues para Cali, en el caso de un año, se observa un porcentaje mayor con respecto a los otros casos, pero igualmente la magnitud de los errores son muy similares entre si. Adicionalmente, se puede ver que en la mayoria del tiempo, se esta sobrestimando la radiación en los casos donde estuvo presente el fenónemo de la niña."
   ]
  },
  {
   "cell_type": "markdown",
   "metadata": {},
   "source": [
    "## CARMEN DE BOLIVAR"
   ]
  },
  {
   "cell_type": "code",
   "execution_count": 61,
   "metadata": {},
   "outputs": [],
   "source": [
    "serie_final_3carmen=ajuste_mcp_3(serie_1corta_carmen,serie_2larga_carmen,2015,1)\n",
    "serie_final_6carmen=ajuste_mcp_6(serie_1corta_carmen,serie_2larga_carmen,2011,1)\n",
    "serie_final_agnocarmen=ajuste_mcp_agno(serie_1corta_carmen,serie_2larga_carmen,2015,1)"
   ]
  },
  {
   "cell_type": "markdown",
   "metadata": {},
   "source": [
    "- CALCULO ENFICC"
   ]
  },
  {
   "cell_type": "code",
   "execution_count": 62,
   "metadata": {},
   "outputs": [
    {
     "name": "stdout",
     "output_type": "stream",
     "text": [
      "La ENFICC 99% es:  4.06482175725\n"
     ]
    },
    {
     "data": {
      "text/plain": [
       "4.0648217572519831"
      ]
     },
     "execution_count": 62,
     "metadata": {},
     "output_type": "execute_result"
    }
   ],
   "source": [
    "#Cálculo ENFICC para serie ideam \n",
    "calc_enficc(serie_1corta_carmen)"
   ]
  },
  {
   "cell_type": "code",
   "execution_count": 63,
   "metadata": {},
   "outputs": [
    {
     "name": "stdout",
     "output_type": "stream",
     "text": [
      "La ENFICC 99% es:  4.2736665\n"
     ]
    },
    {
     "data": {
      "text/plain": [
       "4.2736664999999991"
      ]
     },
     "execution_count": 63,
     "metadata": {},
     "output_type": "execute_result"
    }
   ],
   "source": [
    "#Cálculo ENFICC para serie NREL\n",
    "calc_enficc(serie_2larga_carmen)"
   ]
  },
  {
   "cell_type": "code",
   "execution_count": 64,
   "metadata": {},
   "outputs": [
    {
     "name": "stdout",
     "output_type": "stream",
     "text": [
      "La ENFICC 99% es:  3.59502105387\n"
     ]
    },
    {
     "data": {
      "text/plain": [
       "3.5950210538741532"
      ]
     },
     "execution_count": 64,
     "metadata": {},
     "output_type": "execute_result"
    }
   ],
   "source": [
    "#Cálculo ENFICC para serie ajustada (primeros 3 meses del 2015)\n",
    "calc_enficc(serie_final_3carmen)"
   ]
  },
  {
   "cell_type": "code",
   "execution_count": 65,
   "metadata": {},
   "outputs": [
    {
     "name": "stdout",
     "output_type": "stream",
     "text": [
      "La ENFICC 99% es:  4.10711067796\n"
     ]
    },
    {
     "data": {
      "text/plain": [
       "4.1071106779627975"
      ]
     },
     "execution_count": 65,
     "metadata": {},
     "output_type": "execute_result"
    }
   ],
   "source": [
    "#Cálculo ENFICC para serie ajustada (primeros 6 meses del 2011)\n",
    "calc_enficc(serie_final_6carmen)"
   ]
  },
  {
   "cell_type": "code",
   "execution_count": 66,
   "metadata": {},
   "outputs": [
    {
     "name": "stdout",
     "output_type": "stream",
     "text": [
      "La ENFICC 99% es:  3.69675546019\n"
     ]
    },
    {
     "data": {
      "text/plain": [
       "3.6967554601850035"
      ]
     },
     "execution_count": 66,
     "metadata": {},
     "output_type": "execute_result"
    }
   ],
   "source": [
    "#Cálculo ENFICC para serie ajustada (año del 2015)\n",
    "calc_enficc(serie_final_agnocarmen)"
   ]
  },
  {
   "cell_type": "markdown",
   "metadata": {},
   "source": [
    "- SERIE AJUSTADA Y GRÁFICA COMPARATIVA "
   ]
  },
  {
   "cell_type": "markdown",
   "metadata": {},
   "source": [
    "A continuación se muestra la serie ajustada teniendo en cuenta los primeros 3 meses del 2015."
   ]
  },
  {
   "cell_type": "markdown",
   "metadata": {},
   "source": [
    "Abajo se muestra la gráfica comparativa teniendo en cuenta los promedios mensuales por los años de la serie IDEAM (es la más cortas)\n"
   ]
  },
  {
   "cell_type": "code",
   "execution_count": 67,
   "metadata": {},
   "outputs": [
    {
     "data": {
      "text/plain": [
       "<matplotlib.legend.Legend at 0x7f00114b6ef0>"
      ]
     },
     "execution_count": 67,
     "metadata": {},
     "output_type": "execute_result"
    },
    {
     "data": {
      "image/png": "[encoded data removed]",
      "text/plain": [
       "<matplotlib.figure.Figure at 0x7f0011554e10>"
      ]
     },
     "metadata": {},
     "output_type": "display_data"
    }
   ],
   "source": [
    "ghi_mensual_ajust = ghi_mensual(serie_final_3carmen)\n",
    "ghi_diario_ajust = ghi_dia(ghi_mensual_ajust)\n",
    "datos_ajustados = sorted(ghi_diario_ajust[\"PROMEDIO\"])\n",
    "\n",
    "ghi_mensual_NREL = ghi_mensual(serie_2larga_carmen)\n",
    "ghi_diario_NREL = ghi_dia(ghi_mensual_NREL)\n",
    "datos_NREL = sorted(ghi_diario_NREL[\"PROMEDIO\"])\n",
    "\n",
    "ghi_mensual_IDEAM = ghi_mensual(serie_1corta_carmen)\n",
    "ghi_diario_IDEAM = ghi_dia(ghi_mensual_IDEAM)\n",
    "datos_IDEAM = sorted(ghi_diario_IDEAM[\"PROMEDIO\"])\n",
    "\n",
    "numdatos_ajustados = range(len(datos_ajustados))\n",
    "numdatos_NREL = range(len(datos_NREL))\n",
    "numdatos_IDEAM = range(len(datos_IDEAM))\n",
    "\n",
    "pylab.plot(numdatos_ajustados,datos_ajustados,'-k', label='Ajustados')\n",
    "pylab.plot(numdatos_NREL,datos_NREL,'-r', label='NREL')\n",
    "pylab.plot(numdatos_IDEAM,datos_IDEAM,'-b', label='IDEAM')\n",
    "pylab.legend(loc='upper left')"
   ]
  },
  {
   "cell_type": "markdown",
   "metadata": {},
   "source": [
    "Ahora, para poder analizar a profundidad el caso de Carmen de Bolivar, se aumento la cantidad de meses de referencia de la serie IDEAM de 3 a 6, y se cambio el año de estudio al 2011"
   ]
  },
  {
   "cell_type": "code",
   "execution_count": 68,
   "metadata": {},
   "outputs": [
    {
     "data": {
      "text/plain": [
       "<matplotlib.legend.Legend at 0x7f00111feeb8>"
      ]
     },
     "execution_count": 68,
     "metadata": {},
     "output_type": "execute_result"
    },
    {
     "data": {
      "image/png": "[encoded data removed]",
      "text/plain": [
       "<matplotlib.figure.Figure at 0x7f001145e358>"
      ]
     },
     "metadata": {},
     "output_type": "display_data"
    }
   ],
   "source": [
    "ghi_mensual_ajust = ghi_mensual(serie_final_6carmen)\n",
    "ghi_diario_ajust = ghi_dia(ghi_mensual_ajust)\n",
    "datos_ajustados = sorted(ghi_diario_ajust[\"PROMEDIO\"])\n",
    "\n",
    "ghi_mensual_NREL = ghi_mensual(serie_2larga_carmen)\n",
    "ghi_diario_NREL = ghi_dia(ghi_mensual_NREL)\n",
    "datos_NREL = sorted(ghi_diario_NREL[\"PROMEDIO\"])\n",
    "\n",
    "ghi_mensual_IDEAM = ghi_mensual(serie_1corta_carmen)\n",
    "ghi_diario_IDEAM = ghi_dia(ghi_mensual_IDEAM)\n",
    "datos_IDEAM = sorted(ghi_diario_IDEAM[\"PROMEDIO\"])\n",
    "\n",
    "numdatos_ajustados = range(len(datos_ajustados))\n",
    "numdatos_NREL = range(len(datos_NREL))\n",
    "numdatos_IDEAM = range(len(datos_IDEAM))\n",
    "\n",
    "pylab.plot(numdatos_ajustados,datos_ajustados,'-k', label='Ajustados')\n",
    "pylab.plot(numdatos_NREL,datos_NREL,'-r', label='NREL')\n",
    "pylab.plot(numdatos_IDEAM,datos_IDEAM,'-b', label='IDEAM')\n",
    "pylab.legend(loc='upper left')"
   ]
  },
  {
   "cell_type": "markdown",
   "metadata": {},
   "source": [
    "Finalmente se evaluara teniendo como referencia el año 2015"
   ]
  },
  {
   "cell_type": "code",
   "execution_count": 69,
   "metadata": {},
   "outputs": [
    {
     "data": {
      "text/plain": [
       "<matplotlib.legend.Legend at 0x7f0010b85d30>"
      ]
     },
     "execution_count": 69,
     "metadata": {},
     "output_type": "execute_result"
    },
    {
     "data": {
      "image/png": "[encoded data removed]",
      "text/plain": [
       "<matplotlib.figure.Figure at 0x7f0011190400>"
      ]
     },
     "metadata": {},
     "output_type": "display_data"
    }
   ],
   "source": [
    "ghi_mensual_ajust = ghi_mensual(serie_final_agnocarmen)\n",
    "ghi_diario_ajust = ghi_dia(ghi_mensual_ajust)\n",
    "datos_ajustados = sorted(ghi_diario_ajust[\"PROMEDIO\"])\n",
    "\n",
    "ghi_mensual_NREL = ghi_mensual(serie_2larga_carmen)\n",
    "ghi_diario_NREL = ghi_dia(ghi_mensual_NREL)\n",
    "datos_NREL = sorted(ghi_diario_NREL[\"PROMEDIO\"])\n",
    "\n",
    "ghi_mensual_IDEAM = ghi_mensual(serie_1corta_carmen)\n",
    "ghi_diario_IDEAM = ghi_dia(ghi_mensual_IDEAM)\n",
    "datos_IDEAM = sorted(ghi_diario_IDEAM[\"PROMEDIO\"])\n",
    "\n",
    "numdatos_ajustados = range(len(datos_ajustados))\n",
    "numdatos_NREL = range(len(datos_NREL))\n",
    "numdatos_IDEAM = range(len(datos_IDEAM))\n",
    "\n",
    "pylab.plot(numdatos_ajustados,datos_ajustados,'-k', label='Ajustados')\n",
    "pylab.plot(numdatos_NREL,datos_NREL,'-r', label='NREL')\n",
    "pylab.plot(numdatos_IDEAM,datos_IDEAM,'-b', label='IDEAM')\n",
    "pylab.legend(loc='upper left')"
   ]
  },
  {
   "cell_type": "markdown",
   "metadata": {},
   "source": [
    "- CÁLCULO DE ERROR Y ANÁLISIS "
   ]
  },
  {
   "cell_type": "markdown",
   "metadata": {},
   "source": [
    "ERROR RMSEn "
   ]
  },
  {
   "cell_type": "code",
   "execution_count": 70,
   "metadata": {},
   "outputs": [
    {
     "data": {
      "text/plain": [
       "0.10076005051265914"
      ]
     },
     "execution_count": 70,
     "metadata": {},
     "output_type": "execute_result"
    }
   ],
   "source": [
    "#Cálculo de error entre serie IDEAM y serie NREL\n",
    "RMSEn (serie_1corta_carmen,serie_2larga_carmen)"
   ]
  },
  {
   "cell_type": "markdown",
   "metadata": {},
   "source": [
    "Primeros 3 meses del 2015"
   ]
  },
  {
   "cell_type": "code",
   "execution_count": 71,
   "metadata": {},
   "outputs": [
    {
     "data": {
      "text/plain": [
       "0.10000078863356959"
      ]
     },
     "execution_count": 71,
     "metadata": {},
     "output_type": "execute_result"
    }
   ],
   "source": [
    "#Cálculo de error entre serie IDEAM y serie ajustada\n",
    "RMSEn (serie_1corta_carmen,serie_final_3carmen)"
   ]
  },
  {
   "cell_type": "markdown",
   "metadata": {},
   "source": [
    "Primeros 6 meses del 2011"
   ]
  },
  {
   "cell_type": "code",
   "execution_count": 72,
   "metadata": {},
   "outputs": [
    {
     "data": {
      "text/plain": [
       "0.098800768712274709"
      ]
     },
     "execution_count": 72,
     "metadata": {},
     "output_type": "execute_result"
    }
   ],
   "source": [
    "#Cálculo de error entre serie IDEAM y serie ajustada\n",
    "RMSEn (serie_1corta_carmen,serie_final_6carmen)"
   ]
  },
  {
   "cell_type": "markdown",
   "metadata": {},
   "source": [
    "Año 2015"
   ]
  },
  {
   "cell_type": "code",
   "execution_count": 73,
   "metadata": {},
   "outputs": [
    {
     "data": {
      "text/plain": [
       "0.098762395139204415"
      ]
     },
     "execution_count": 73,
     "metadata": {},
     "output_type": "execute_result"
    }
   ],
   "source": [
    "#Cálculo de error entre serie IDEAM y serie ajustada\n",
    "RMSEn (serie_1corta_carmen,serie_final_agnocarmen)"
   ]
  },
  {
   "cell_type": "markdown",
   "metadata": {},
   "source": [
    "ERROR MBE"
   ]
  },
  {
   "cell_type": "code",
   "execution_count": 74,
   "metadata": {},
   "outputs": [
    {
     "data": {
      "text/plain": [
       "0.0360290777323376"
      ]
     },
     "execution_count": 74,
     "metadata": {},
     "output_type": "execute_result"
    }
   ],
   "source": [
    "#Cálculo de error entre serie IDEAM y serie NREL\n",
    "MBE (serie_1corta_carmen,serie_2larga_carmen)"
   ]
  },
  {
   "cell_type": "markdown",
   "metadata": {},
   "source": [
    "Primeros 3 meses del 2015"
   ]
  },
  {
   "cell_type": "code",
   "execution_count": 75,
   "metadata": {},
   "outputs": [
    {
     "data": {
      "text/plain": [
       "-0.1299723243528631"
      ]
     },
     "execution_count": 75,
     "metadata": {},
     "output_type": "execute_result"
    }
   ],
   "source": [
    "#Cálculo de error entre serie IDEAM y serie ajustada\n",
    "MBE (serie_1corta_carmen,serie_final_3carmen)"
   ]
  },
  {
   "cell_type": "markdown",
   "metadata": {},
   "source": [
    "Primeros 6 meses del 2011"
   ]
  },
  {
   "cell_type": "code",
   "execution_count": 76,
   "metadata": {},
   "outputs": [
    {
     "data": {
      "text/plain": [
       "-0.0040552340276697862"
      ]
     },
     "execution_count": 76,
     "metadata": {},
     "output_type": "execute_result"
    }
   ],
   "source": [
    "#Cálculo de error entre serie IDEAM y serie NREL\n",
    "MBE (serie_1corta_carmen,serie_final_6carmen)"
   ]
  },
  {
   "cell_type": "markdown",
   "metadata": {},
   "source": [
    "Año del 2015"
   ]
  },
  {
   "cell_type": "code",
   "execution_count": 77,
   "metadata": {},
   "outputs": [
    {
     "data": {
      "text/plain": [
       "-0.10181239330440392"
      ]
     },
     "execution_count": 77,
     "metadata": {},
     "output_type": "execute_result"
    }
   ],
   "source": [
    "#Cálculo de error entre serie IDEAM y serie NREL\n",
    "MBE (serie_1corta_carmen,serie_final_agnocarmen)"
   ]
  },
  {
   "cell_type": "markdown",
   "metadata": {},
   "source": [
    "Para Carmen de Bolivar , con respecto al cálculo de la ENFICC, se puede observar que en este caso la ENFICC es mayor para el periodo donde se presento el fenomeno del niño (2011), y que para el caso del fenomeno de la niña, la ENFICC es muy similar sin importat cuantos meses se tengan como referencia para ajustar la serie de NREL. Gráficamente se puede observar que la calidad del ajuste no depende de la cantidad de meses que se tenga en cuenta como base para el cálculo. Esto se ve reflejado en la magnitud de los errores calculados, se ve que los porcentajes de error son muy similares entre si, sin depender de la cantidad de tiempo estudiada. Adicionalmente, se puede ver que en la mayoria del tiempo, se esta subestimando la radiación en los casos donde estuvo presente el fenónemo de la niña, y sobrestimandola para el periodo donde se presento el fenomeno del niño."
   ]
  },
  {
   "cell_type": "markdown",
   "metadata": {},
   "source": [
    "## MEDELLIN"
   ]
  },
  {
   "cell_type": "code",
   "execution_count": 78,
   "metadata": {},
   "outputs": [],
   "source": [
    "serie_final_3medellin=ajuste_mcp_3(serie_1corta_medellin,serie_2larga_medellin,2015,1)\n",
    "serie_final_6medellin=ajuste_mcp_6(serie_1corta_medellin,serie_2larga_medellin,2011,1)\n",
    "serie_final_agnomedellin=ajuste_mcp_agno(serie_1corta_medellin,serie_2larga_medellin,2015,1)"
   ]
  },
  {
   "cell_type": "markdown",
   "metadata": {},
   "source": [
    "- CALCULO ENFICC"
   ]
  },
  {
   "cell_type": "code",
   "execution_count": 79,
   "metadata": {},
   "outputs": [
    {
     "name": "stdout",
     "output_type": "stream",
     "text": [
      "La ENFICC 99% es:  3.53519358791\n"
     ]
    },
    {
     "data": {
      "text/plain": [
       "3.5351935879067091"
      ]
     },
     "execution_count": 79,
     "metadata": {},
     "output_type": "execute_result"
    }
   ],
   "source": [
    "#Cálculo ENFICC para serie ideam \n",
    "calc_enficc(serie_1corta_medellin)"
   ]
  },
  {
   "cell_type": "code",
   "execution_count": 80,
   "metadata": {},
   "outputs": [
    {
     "name": "stdout",
     "output_type": "stream",
     "text": [
      "La ENFICC 99% es:  4.32600282796\n"
     ]
    },
    {
     "data": {
      "text/plain": [
       "4.3260028279569891"
      ]
     },
     "execution_count": 80,
     "metadata": {},
     "output_type": "execute_result"
    }
   ],
   "source": [
    "#Cálculo ENFICC para serie NREL\n",
    "calc_enficc(serie_2larga_medellin)"
   ]
  },
  {
   "cell_type": "code",
   "execution_count": 84,
   "metadata": {},
   "outputs": [
    {
     "name": "stdout",
     "output_type": "stream",
     "text": [
      "La ENFICC 99% es:  4.10168952193\n"
     ]
    },
    {
     "data": {
      "text/plain": [
       "4.1016895219321103"
      ]
     },
     "execution_count": 84,
     "metadata": {},
     "output_type": "execute_result"
    }
   ],
   "source": [
    "#Cálculo ENFICC para serie ajustada (primeros 3 meses del 2015)\n",
    "calc_enficc(serie_final_3medellin)"
   ]
  },
  {
   "cell_type": "code",
   "execution_count": 85,
   "metadata": {},
   "outputs": [
    {
     "name": "stdout",
     "output_type": "stream",
     "text": [
      "La ENFICC 99% es:  3.47460207751\n"
     ]
    },
    {
     "data": {
      "text/plain": [
       "3.474602077507349"
      ]
     },
     "execution_count": 85,
     "metadata": {},
     "output_type": "execute_result"
    }
   ],
   "source": [
    "#Cálculo ENFICC para serie ajustada (primeros 6 meses del 2011)\n",
    "calc_enficc(serie_final_6medellin)"
   ]
  },
  {
   "cell_type": "code",
   "execution_count": 86,
   "metadata": {},
   "outputs": [
    {
     "name": "stdout",
     "output_type": "stream",
     "text": [
      "La ENFICC 99% es:  4.19350498473\n"
     ]
    },
    {
     "data": {
      "text/plain": [
       "4.1935049847306285"
      ]
     },
     "execution_count": 86,
     "metadata": {},
     "output_type": "execute_result"
    }
   ],
   "source": [
    "#Cálculo ENFICC para serie ajustada (año del 2015)\n",
    "calc_enficc(serie_final_agnomedellin)"
   ]
  },
  {
   "cell_type": "markdown",
   "metadata": {},
   "source": [
    "- SERIE AJUSTADA Y GRÁFICA COMPARATIVA "
   ]
  },
  {
   "cell_type": "markdown",
   "metadata": {},
   "source": [
    "A continuación se muestra la serie ajustada teniendo en cuenta los primeros 3 meses del 2015."
   ]
  },
  {
   "cell_type": "markdown",
   "metadata": {},
   "source": [
    "Abajo se muestra la gráfica comparativa teniendo en cuenta los promedios mensuales por los años de la serie IDEAM (es la más cortas)\n"
   ]
  },
  {
   "cell_type": "code",
   "execution_count": 87,
   "metadata": {},
   "outputs": [
    {
     "data": {
      "text/plain": [
       "<matplotlib.legend.Legend at 0x7f0010b1fda0>"
      ]
     },
     "execution_count": 87,
     "metadata": {},
     "output_type": "execute_result"
    },
    {
     "data": {
      "image/png": "[encoded data removed]",
      "text/plain": [
       "<matplotlib.figure.Figure at 0x7f00111b82b0>"
      ]
     },
     "metadata": {},
     "output_type": "display_data"
    }
   ],
   "source": [
    "ghi_mensual_ajust = ghi_mensual(serie_final_3medellin)\n",
    "ghi_diario_ajust = ghi_dia(ghi_mensual_ajust)\n",
    "datos_ajustados = sorted(ghi_diario_ajust[\"PROMEDIO\"])\n",
    "\n",
    "ghi_mensual_NREL = ghi_mensual(serie_2larga_medellin)\n",
    "ghi_diario_NREL = ghi_dia(ghi_mensual_NREL)\n",
    "datos_NREL = sorted(ghi_diario_NREL[\"PROMEDIO\"])\n",
    "\n",
    "ghi_mensual_IDEAM = ghi_mensual(serie_1corta_medellin)\n",
    "ghi_diario_IDEAM = ghi_dia(ghi_mensual_IDEAM)\n",
    "datos_IDEAM = sorted(ghi_diario_IDEAM[\"PROMEDIO\"])\n",
    "\n",
    "numdatos_ajustados = range(len(datos_ajustados))\n",
    "numdatos_NREL = range(len(datos_NREL))\n",
    "numdatos_IDEAM = range(len(datos_IDEAM))\n",
    "\n",
    "pylab.plot(numdatos_ajustados,datos_ajustados,'-k', label='Ajustados')\n",
    "pylab.plot(numdatos_NREL,datos_NREL,'-r', label='NREL')\n",
    "pylab.plot(numdatos_IDEAM,datos_IDEAM,'-b', label='IDEAM')\n",
    "pylab.legend(loc='upper left')"
   ]
  },
  {
   "cell_type": "markdown",
   "metadata": {},
   "source": [
    "Ahora, para poder analizar a profundidad el caso de Medellin, se aumento la cantidad de meses de referencia de la serie IDEAM de 3 a 6, y se cambio el año de estudio al 2011"
   ]
  },
  {
   "cell_type": "code",
   "execution_count": 88,
   "metadata": {},
   "outputs": [
    {
     "data": {
      "text/plain": [
       "<matplotlib.legend.Legend at 0x7f0010aa5748>"
      ]
     },
     "execution_count": 88,
     "metadata": {},
     "output_type": "execute_result"
    },
    {
     "data": {
      "image/png": "[encoded data removed]",
      "text/plain": [
       "<matplotlib.figure.Figure at 0x7f0010bb68d0>"
      ]
     },
     "metadata": {},
     "output_type": "display_data"
    }
   ],
   "source": [
    "ghi_mensual_ajust = ghi_mensual(serie_final_6medellin)\n",
    "ghi_diario_ajust = ghi_dia(ghi_mensual_ajust)\n",
    "datos_ajustados = sorted(ghi_diario_ajust[\"PROMEDIO\"])\n",
    "\n",
    "ghi_mensual_NREL = ghi_mensual(serie_2larga_medellin)\n",
    "ghi_diario_NREL = ghi_dia(ghi_mensual_NREL)\n",
    "datos_NREL = sorted(ghi_diario_NREL[\"PROMEDIO\"])\n",
    "\n",
    "ghi_mensual_IDEAM = ghi_mensual(serie_1corta_medellin)\n",
    "ghi_diario_IDEAM = ghi_dia(ghi_mensual_IDEAM)\n",
    "datos_IDEAM = sorted(ghi_diario_IDEAM[\"PROMEDIO\"])\n",
    "\n",
    "numdatos_ajustados = range(len(datos_ajustados))\n",
    "numdatos_NREL = range(len(datos_NREL))\n",
    "numdatos_IDEAM = range(len(datos_IDEAM))\n",
    "\n",
    "pylab.plot(numdatos_ajustados,datos_ajustados,'-k', label='Ajustados')\n",
    "pylab.plot(numdatos_NREL,datos_NREL,'-r', label='NREL')\n",
    "pylab.plot(numdatos_IDEAM,datos_IDEAM,'-b', label='IDEAM')\n",
    "pylab.legend(loc='upper left')"
   ]
  },
  {
   "cell_type": "markdown",
   "metadata": {},
   "source": [
    "Finalmente se evaluara teniendo como referencia el año 2015"
   ]
  },
  {
   "cell_type": "code",
   "execution_count": 89,
   "metadata": {},
   "outputs": [
    {
     "data": {
      "text/plain": [
       "<matplotlib.legend.Legend at 0x7f0011497940>"
      ]
     },
     "execution_count": 89,
     "metadata": {},
     "output_type": "execute_result"
    },
    {
     "data": {
      "image/png": "[encoded data removed]",
      "text/plain": [
       "<matplotlib.figure.Figure at 0x7f0010b1feb8>"
      ]
     },
     "metadata": {},
     "output_type": "display_data"
    }
   ],
   "source": [
    "ghi_mensual_ajust = ghi_mensual(serie_final_agnomedellin)\n",
    "ghi_diario_ajust = ghi_dia(ghi_mensual_ajust)\n",
    "datos_ajustados = sorted(ghi_diario_ajust[\"PROMEDIO\"])\n",
    "\n",
    "ghi_mensual_NREL = ghi_mensual(serie_2larga_medellin)\n",
    "ghi_diario_NREL = ghi_dia(ghi_mensual_NREL)\n",
    "datos_NREL = sorted(ghi_diario_NREL[\"PROMEDIO\"])\n",
    "\n",
    "ghi_mensual_IDEAM = ghi_mensual(serie_1corta_medellin)\n",
    "ghi_diario_IDEAM = ghi_dia(ghi_mensual_IDEAM)\n",
    "datos_IDEAM = sorted(ghi_diario_IDEAM[\"PROMEDIO\"])\n",
    "\n",
    "numdatos_ajustados = range(len(datos_ajustados))\n",
    "numdatos_NREL = range(len(datos_NREL))\n",
    "numdatos_IDEAM = range(len(datos_IDEAM))\n",
    "\n",
    "pylab.plot(numdatos_ajustados,datos_ajustados,'-k', label='Ajustados')\n",
    "pylab.plot(numdatos_NREL,datos_NREL,'-r', label='NREL')\n",
    "pylab.plot(numdatos_IDEAM,datos_IDEAM,'-b', label='IDEAM')\n",
    "pylab.legend(loc='upper left')"
   ]
  },
  {
   "cell_type": "markdown",
   "metadata": {},
   "source": [
    "- CÁLCULO DE ERROR Y ANÁLISIS "
   ]
  },
  {
   "cell_type": "markdown",
   "metadata": {},
   "source": [
    "ERROR RMSEn "
   ]
  },
  {
   "cell_type": "code",
   "execution_count": 90,
   "metadata": {},
   "outputs": [
    {
     "data": {
      "text/plain": [
       "0.11711210133058593"
      ]
     },
     "execution_count": 90,
     "metadata": {},
     "output_type": "execute_result"
    }
   ],
   "source": [
    "#Cálculo de error entre serie IDEAM y serie NREL\n",
    "RMSEn (serie_1corta_medellin,serie_2larga_medellin)"
   ]
  },
  {
   "cell_type": "markdown",
   "metadata": {},
   "source": [
    "Primeros 3 meses del 2015"
   ]
  },
  {
   "cell_type": "code",
   "execution_count": 91,
   "metadata": {},
   "outputs": [
    {
     "data": {
      "text/plain": [
       "0.11101458375897248"
      ]
     },
     "execution_count": 91,
     "metadata": {},
     "output_type": "execute_result"
    }
   ],
   "source": [
    "#Cálculo de error entre serie IDEAM y serie ajustada\n",
    "RMSEn (serie_1corta_medellin,serie_final_3medellin)"
   ]
  },
  {
   "cell_type": "markdown",
   "metadata": {},
   "source": [
    "Primeros 6 meses del 2011"
   ]
  },
  {
   "cell_type": "code",
   "execution_count": 92,
   "metadata": {},
   "outputs": [
    {
     "data": {
      "text/plain": [
       "0.098520227291873957"
      ]
     },
     "execution_count": 92,
     "metadata": {},
     "output_type": "execute_result"
    }
   ],
   "source": [
    "#Cálculo de error entre serie IDEAM y serie ajustada\n",
    "RMSEn (serie_1corta_medellin,serie_final_6medellin)"
   ]
  },
  {
   "cell_type": "markdown",
   "metadata": {},
   "source": [
    "Año del 2015"
   ]
  },
  {
   "cell_type": "code",
   "execution_count": 93,
   "metadata": {},
   "outputs": [
    {
     "data": {
      "text/plain": [
       "0.11417224629379878"
      ]
     },
     "execution_count": 93,
     "metadata": {},
     "output_type": "execute_result"
    }
   ],
   "source": [
    "#Cálculo de error entre serie IDEAM y serie ajustada\n",
    "RMSEn (serie_1corta_medellin,serie_final_agnomedellin)"
   ]
  },
  {
   "cell_type": "markdown",
   "metadata": {},
   "source": [
    "ERROR MBE"
   ]
  },
  {
   "cell_type": "code",
   "execution_count": 94,
   "metadata": {},
   "outputs": [
    {
     "data": {
      "text/plain": [
       "0.19720850609384608"
      ]
     },
     "execution_count": 94,
     "metadata": {},
     "output_type": "execute_result"
    }
   ],
   "source": [
    "#Cálculo de error entre serie IDEAM y serie NREL\n",
    "MBE (serie_1corta_medellin,serie_2larga_medellin)"
   ]
  },
  {
   "cell_type": "markdown",
   "metadata": {},
   "source": [
    "Primeros 3 meses del 2015"
   ]
  },
  {
   "cell_type": "code",
   "execution_count": 95,
   "metadata": {},
   "outputs": [
    {
     "data": {
      "text/plain": [
       "0.13989975373696839"
      ]
     },
     "execution_count": 95,
     "metadata": {},
     "output_type": "execute_result"
    }
   ],
   "source": [
    "#Cálculo de error entre serie IDEAM y serie ajustada\n",
    "MBE (serie_1corta_medellin,serie_final_3medellin)"
   ]
  },
  {
   "cell_type": "markdown",
   "metadata": {},
   "source": [
    "Primeros 6 meses del 2011"
   ]
  },
  {
   "cell_type": "code",
   "execution_count": 96,
   "metadata": {},
   "outputs": [
    {
     "data": {
      "text/plain": [
       "-0.038241839378099524"
      ]
     },
     "execution_count": 96,
     "metadata": {},
     "output_type": "execute_result"
    }
   ],
   "source": [
    "#Cálculo de error entre serie IDEAM y serie NREL\n",
    "MBE (serie_1corta_medellin,serie_final_6medellin)"
   ]
  },
  {
   "cell_type": "markdown",
   "metadata": {},
   "source": [
    "Año del 2015"
   ]
  },
  {
   "cell_type": "code",
   "execution_count": 97,
   "metadata": {},
   "outputs": [
    {
     "data": {
      "text/plain": [
       "0.16538375004152761"
      ]
     },
     "execution_count": 97,
     "metadata": {},
     "output_type": "execute_result"
    }
   ],
   "source": [
    "#Cálculo de error entre serie IDEAM y serie NREL\n",
    "MBE (serie_1corta_medellin,serie_final_agnomedellin)"
   ]
  },
  {
   "cell_type": "markdown",
   "metadata": {},
   "source": [
    "Para Medellin, con respecto al cálculo de la ENFICC, se puede observar que para el caso del fenomeno de la niña, la ENFICC es muy similar sin importar cuantos meses se tengan como referencia para ajustar la serie de NREL, y que este valor es menor para el periodo donde se presentó el fenómeno del niño. Gráficamente se puede observar que la calidad del ajuste no depende de la cantidad de meses que se tenga en cuenta como base para el cálculo. Esto se ve reflejado en la magnitud de los errores calculados, se ve que los porcentajes de error son muy similares entre si, sin depender de la cantidad de tiempo estudiada. Adicionalmente, se puede ver que en la mayoria del tiempo, se esta sobrestimando la radiación en los casos donde estuvo presente el fenónemo de la niña, y subestimandola para el periodo donde se presento el fenomeno del niño."
   ]
  },
  {
   "cell_type": "markdown",
   "metadata": {},
   "source": [
    "## SANTA MARTA "
   ]
  },
  {
   "cell_type": "code",
   "execution_count": 98,
   "metadata": {},
   "outputs": [],
   "source": [
    "serie_final_3santa=ajuste_mcp_3(serie_1corta_santa,serie_2larga_santa,2015,1)\n",
    "serie_final_6santa=ajuste_mcp_6(serie_1corta_santa,serie_2larga_santa,2011,1)\n",
    "serie_final_agnosanta=ajuste_mcp_agno(serie_1corta_santa,serie_2larga_santa,2015,1)"
   ]
  },
  {
   "cell_type": "markdown",
   "metadata": {},
   "source": [
    "- CALCULO ENFICC"
   ]
  },
  {
   "cell_type": "code",
   "execution_count": 99,
   "metadata": {},
   "outputs": [
    {
     "name": "stdout",
     "output_type": "stream",
     "text": [
      "La ENFICC 99% es:  4.04071664383\n"
     ]
    },
    {
     "data": {
      "text/plain": [
       "4.0407166438251352"
      ]
     },
     "execution_count": 99,
     "metadata": {},
     "output_type": "execute_result"
    }
   ],
   "source": [
    "#Cálculo ENFICC para serie ideam \n",
    "calc_enficc(serie_1corta_santa)"
   ]
  },
  {
   "cell_type": "code",
   "execution_count": 100,
   "metadata": {},
   "outputs": [
    {
     "name": "stdout",
     "output_type": "stream",
     "text": [
      "La ENFICC 99% es:  4.536077\n"
     ]
    },
    {
     "data": {
      "text/plain": [
       "4.5360769999999997"
      ]
     },
     "execution_count": 100,
     "metadata": {},
     "output_type": "execute_result"
    }
   ],
   "source": [
    "#Cálculo ENFICC para serie NREL\n",
    "calc_enficc(serie_2larga_santa)"
   ]
  },
  {
   "cell_type": "code",
   "execution_count": 101,
   "metadata": {},
   "outputs": [
    {
     "name": "stdout",
     "output_type": "stream",
     "text": [
      "La ENFICC 99% es:  4.90687552633\n"
     ]
    },
    {
     "data": {
      "text/plain": [
       "4.9068755263271093"
      ]
     },
     "execution_count": 101,
     "metadata": {},
     "output_type": "execute_result"
    }
   ],
   "source": [
    "#Cálculo ENFICC para serie ajustada (primeros 3 meses del 2015)\n",
    "calc_enficc(serie_final_3santa)"
   ]
  },
  {
   "cell_type": "code",
   "execution_count": 102,
   "metadata": {},
   "outputs": [
    {
     "name": "stdout",
     "output_type": "stream",
     "text": [
      "La ENFICC 99% es:  4.22626731874\n"
     ]
    },
    {
     "data": {
      "text/plain": [
       "4.2262673187437381"
      ]
     },
     "execution_count": 102,
     "metadata": {},
     "output_type": "execute_result"
    }
   ],
   "source": [
    "#Cálculo ENFICC para serie ajustada (primeros 6 meses del 2011)\n",
    "calc_enficc(serie_final_6santa)"
   ]
  },
  {
   "cell_type": "code",
   "execution_count": 103,
   "metadata": {},
   "outputs": [
    {
     "name": "stdout",
     "output_type": "stream",
     "text": [
      "La ENFICC 99% es:  4.92027323961\n"
     ]
    },
    {
     "data": {
      "text/plain": [
       "4.920273239608262"
      ]
     },
     "execution_count": 103,
     "metadata": {},
     "output_type": "execute_result"
    }
   ],
   "source": [
    "#Cálculo ENFICC para serie ajustada (año del 2015)\n",
    "calc_enficc(serie_final_agnosanta)"
   ]
  },
  {
   "cell_type": "markdown",
   "metadata": {},
   "source": [
    "- SERIE AJUSTADA Y GRÁFICA COMPARATIVA "
   ]
  },
  {
   "cell_type": "markdown",
   "metadata": {},
   "source": [
    "A continuación se muestra la serie ajustada teniendo en cuenta los primeros 3 meses del 2015."
   ]
  },
  {
   "cell_type": "markdown",
   "metadata": {},
   "source": [
    "Abajo se muestra la gráfica comparativa teniendo en cuenta los promedios mensuales por los años de la serie IDEAM (es la más cortas)\n"
   ]
  },
  {
   "cell_type": "code",
   "execution_count": 104,
   "metadata": {},
   "outputs": [
    {
     "data": {
      "text/plain": [
       "<matplotlib.legend.Legend at 0x7f0010755a90>"
      ]
     },
     "execution_count": 104,
     "metadata": {},
     "output_type": "execute_result"
    },
    {
     "data": {
      "image/png": "[encoded data removed]",
      "text/plain": [
       "<matplotlib.figure.Figure at 0x7f00107a6710>"
      ]
     },
     "metadata": {},
     "output_type": "display_data"
    }
   ],
   "source": [
    "ghi_mensual_ajust = ghi_mensual(serie_final_3santa)\n",
    "ghi_diario_ajust = ghi_dia(ghi_mensual_ajust)\n",
    "datos_ajustados = sorted(ghi_diario_ajust[\"PROMEDIO\"])\n",
    "\n",
    "ghi_mensual_NREL = ghi_mensual(serie_2larga_santa)\n",
    "ghi_diario_NREL = ghi_dia(ghi_mensual_NREL)\n",
    "datos_NREL = sorted(ghi_diario_NREL[\"PROMEDIO\"])\n",
    "\n",
    "ghi_mensual_IDEAM = ghi_mensual(serie_1corta_santa)\n",
    "ghi_diario_IDEAM = ghi_dia(ghi_mensual_IDEAM)\n",
    "datos_IDEAM = sorted(ghi_diario_IDEAM[\"PROMEDIO\"])\n",
    "\n",
    "numdatos_ajustados = range(len(datos_ajustados))\n",
    "numdatos_NREL = range(len(datos_NREL))\n",
    "numdatos_IDEAM = range(len(datos_IDEAM))\n",
    "\n",
    "pylab.plot(numdatos_ajustados,datos_ajustados,'-k', label='Ajustados')\n",
    "pylab.plot(numdatos_NREL,datos_NREL,'-r', label='NREL')\n",
    "pylab.plot(numdatos_IDEAM,datos_IDEAM,'-b', label='IDEAM')\n",
    "pylab.legend(loc='upper left')"
   ]
  },
  {
   "cell_type": "markdown",
   "metadata": {},
   "source": [
    "Ahora, para poder analizar a profundidad el caso de Santa Marta, se aumento la cantidad de meses de referencia de la serie IDEAM de 3 a 6, y se cambio el año de estudio al 2011"
   ]
  },
  {
   "cell_type": "code",
   "execution_count": 105,
   "metadata": {},
   "outputs": [
    {
     "data": {
      "text/plain": [
       "<matplotlib.legend.Legend at 0x7f00106dd470>"
      ]
     },
     "execution_count": 105,
     "metadata": {},
     "output_type": "execute_result"
    },
    {
     "data": {
      "image/png": "[encoded data removed]",
      "text/plain": [
       "<matplotlib.figure.Figure at 0x7f00107ae128>"
      ]
     },
     "metadata": {},
     "output_type": "display_data"
    }
   ],
   "source": [
    "ghi_mensual_ajust = ghi_mensual(serie_final_6santa)\n",
    "ghi_diario_ajust = ghi_dia(ghi_mensual_ajust)\n",
    "datos_ajustados = sorted(ghi_diario_ajust[\"PROMEDIO\"])\n",
    "\n",
    "ghi_mensual_NREL = ghi_mensual(serie_2larga_santa)\n",
    "ghi_diario_NREL = ghi_dia(ghi_mensual_NREL)\n",
    "datos_NREL = sorted(ghi_diario_NREL[\"PROMEDIO\"])\n",
    "\n",
    "ghi_mensual_IDEAM = ghi_mensual(serie_1corta_santa)\n",
    "ghi_diario_IDEAM = ghi_dia(ghi_mensual_IDEAM)\n",
    "datos_IDEAM = sorted(ghi_diario_IDEAM[\"PROMEDIO\"])\n",
    "\n",
    "numdatos_ajustados = range(len(datos_ajustados))\n",
    "numdatos_NREL = range(len(datos_NREL))\n",
    "numdatos_IDEAM = range(len(datos_IDEAM))\n",
    "\n",
    "pylab.plot(numdatos_ajustados,datos_ajustados,'-k', label='Ajustados')\n",
    "pylab.plot(numdatos_NREL,datos_NREL,'-r', label='NREL')\n",
    "pylab.plot(numdatos_IDEAM,datos_IDEAM,'-b', label='IDEAM')\n",
    "pylab.legend(loc='upper left')"
   ]
  },
  {
   "cell_type": "markdown",
   "metadata": {},
   "source": [
    "Finalmente se evaluara teniendo como referencia el año 2015"
   ]
  },
  {
   "cell_type": "code",
   "execution_count": 106,
   "metadata": {},
   "outputs": [
    {
     "data": {
      "text/plain": [
       "<matplotlib.legend.Legend at 0x7f0010659da0>"
      ]
     },
     "execution_count": 106,
     "metadata": {},
     "output_type": "execute_result"
    },
    {
     "data": {
      "image/png": "[encoded data removed]",
      "text/plain": [
       "<matplotlib.figure.Figure at 0x7f00114e86d8>"
      ]
     },
     "metadata": {},
     "output_type": "display_data"
    }
   ],
   "source": [
    "ghi_mensual_ajust = ghi_mensual(serie_final_agnosanta)\n",
    "ghi_diario_ajust = ghi_dia(ghi_mensual_ajust)\n",
    "datos_ajustados = sorted(ghi_diario_ajust[\"PROMEDIO\"])\n",
    "\n",
    "ghi_mensual_NREL = ghi_mensual(serie_2larga_santa)\n",
    "ghi_diario_NREL = ghi_dia(ghi_mensual_NREL)\n",
    "datos_NREL = sorted(ghi_diario_NREL[\"PROMEDIO\"])\n",
    "\n",
    "ghi_mensual_IDEAM = ghi_mensual(serie_1corta_santa)\n",
    "ghi_diario_IDEAM = ghi_dia(ghi_mensual_IDEAM)\n",
    "datos_IDEAM = sorted(ghi_diario_IDEAM[\"PROMEDIO\"])\n",
    "\n",
    "numdatos_ajustados = range(len(datos_ajustados))\n",
    "numdatos_NREL = range(len(datos_NREL))\n",
    "numdatos_IDEAM = range(len(datos_IDEAM))\n",
    "\n",
    "pylab.plot(numdatos_ajustados,datos_ajustados,'-k', label='Ajustados')\n",
    "pylab.plot(numdatos_NREL,datos_NREL,'-r', label='NREL')\n",
    "pylab.plot(numdatos_IDEAM,datos_IDEAM,'-b', label='IDEAM')\n",
    "pylab.legend(loc='upper left')"
   ]
  },
  {
   "cell_type": "markdown",
   "metadata": {},
   "source": [
    "- CÁLCULO DE ERROR Y ANÁLISIS "
   ]
  },
  {
   "cell_type": "markdown",
   "metadata": {},
   "source": [
    "ERROR RMSEn "
   ]
  },
  {
   "cell_type": "code",
   "execution_count": 107,
   "metadata": {},
   "outputs": [
    {
     "data": {
      "text/plain": [
       "0.085449377270846269"
      ]
     },
     "execution_count": 107,
     "metadata": {},
     "output_type": "execute_result"
    }
   ],
   "source": [
    "#Cálculo de error entre serie IDEAM y serie NREL\n",
    "RMSEn (serie_1corta_santa,serie_2larga_santa)"
   ]
  },
  {
   "cell_type": "markdown",
   "metadata": {},
   "source": [
    "Primeros 3 meses del 2015"
   ]
  },
  {
   "cell_type": "code",
   "execution_count": 108,
   "metadata": {},
   "outputs": [
    {
     "data": {
      "text/plain": [
       "0.093678417899049349"
      ]
     },
     "execution_count": 108,
     "metadata": {},
     "output_type": "execute_result"
    }
   ],
   "source": [
    "#Cálculo de error entre serie IDEAM y serie ajustada\n",
    "RMSEn (serie_1corta_santa,serie_final_3santa)"
   ]
  },
  {
   "cell_type": "markdown",
   "metadata": {},
   "source": [
    "Primeros 6 meses del 2011"
   ]
  },
  {
   "cell_type": "code",
   "execution_count": 109,
   "metadata": {},
   "outputs": [
    {
     "data": {
      "text/plain": [
       "0.082648637718056653"
      ]
     },
     "execution_count": 109,
     "metadata": {},
     "output_type": "execute_result"
    }
   ],
   "source": [
    "#Cálculo de error entre serie IDEAM y serie ajustada\n",
    "RMSEn (serie_1corta_santa,serie_final_6santa)"
   ]
  },
  {
   "cell_type": "markdown",
   "metadata": {},
   "source": [
    "Año del 2015"
   ]
  },
  {
   "cell_type": "code",
   "execution_count": 110,
   "metadata": {},
   "outputs": [
    {
     "data": {
      "text/plain": [
       "0.093728180812429202"
      ]
     },
     "execution_count": 110,
     "metadata": {},
     "output_type": "execute_result"
    }
   ],
   "source": [
    "#Cálculo de error entre serie IDEAM y serie ajustada\n",
    "RMSEn (serie_1corta_santa,serie_final_agnosanta)"
   ]
  },
  {
   "cell_type": "markdown",
   "metadata": {},
   "source": [
    "ERROR MBE"
   ]
  },
  {
   "cell_type": "code",
   "execution_count": 111,
   "metadata": {},
   "outputs": [
    {
     "data": {
      "text/plain": [
       "0.041874591024665633"
      ]
     },
     "execution_count": 111,
     "metadata": {},
     "output_type": "execute_result"
    }
   ],
   "source": [
    "#Cálculo de error entre serie IDEAM y serie NREL\n",
    "MBE (serie_1corta_santa,serie_2larga_santa)"
   ]
  },
  {
   "cell_type": "markdown",
   "metadata": {},
   "source": [
    "Primeros 3 meses del 2015"
   ]
  },
  {
   "cell_type": "code",
   "execution_count": 112,
   "metadata": {},
   "outputs": [
    {
     "data": {
      "text/plain": [
       "0.12869943952120402"
      ]
     },
     "execution_count": 112,
     "metadata": {},
     "output_type": "execute_result"
    }
   ],
   "source": [
    "#Cálculo de error entre serie IDEAM y serie ajustada\n",
    "MBE (serie_1corta_santa,serie_final_3santa)"
   ]
  },
  {
   "cell_type": "markdown",
   "metadata": {},
   "source": [
    "Primeros 6 meses del 2011"
   ]
  },
  {
   "cell_type": "code",
   "execution_count": 113,
   "metadata": {},
   "outputs": [
    {
     "data": {
      "text/plain": [
       "-0.028043745207634519"
      ]
     },
     "execution_count": 113,
     "metadata": {},
     "output_type": "execute_result"
    }
   ],
   "source": [
    "#Cálculo de error entre serie IDEAM y serie NREL\n",
    "MBE (serie_1corta_santa,serie_final_6santa)"
   ]
  },
  {
   "cell_type": "markdown",
   "metadata": {},
   "source": [
    "Año del 2015"
   ]
  },
  {
   "cell_type": "code",
   "execution_count": 114,
   "metadata": {},
   "outputs": [
    {
     "data": {
      "text/plain": [
       "0.13083454323572924"
      ]
     },
     "execution_count": 114,
     "metadata": {},
     "output_type": "execute_result"
    }
   ],
   "source": [
    "#Cálculo de error entre serie IDEAM y serie NREL\n",
    "MBE (serie_1corta_santa,serie_final_agnosanta)"
   ]
  },
  {
   "cell_type": "markdown",
   "metadata": {},
   "source": [
    "Para Santa Marta, con respecto al cálculo de la ENFICC, al igual que en Medellin,se puede observar que para el caso del fenomeno de la niña, la ENFICC es muy similar sin importar cuantos meses se tengan como referencia para ajustar la serie de NREL, y que este valor es menor para el periodo donde se presentó el fenómeno del niño. Gráficamente se puede observar que la calidad del ajuste no depende de la cantidad de meses que se tenga en cuenta como base para el cálculo. Esto se ve reflejado en la magnitud de los errores calculados, se ve que los porcentajes de error son muy similares entre si, sin depender de la cantidad de tiempo estudiada. Adicionalmente, se puede ver que en la mayoria del tiempo, se esta sobrestimando la radiación en los casos donde estuvo presente el fenónemo de la niña, y subestimandola para el periodo donde se presento el fenomeno del niño."
   ]
  },
  {
   "cell_type": "markdown",
   "metadata": {},
   "source": [
    "## SUCRE"
   ]
  },
  {
   "cell_type": "code",
   "execution_count": 115,
   "metadata": {},
   "outputs": [],
   "source": [
    "serie_final_3sucre=ajuste_mcp_3(serie_1corta_sucre,serie_2larga_sucre,2015,1)\n",
    "serie_final_6sucre=ajuste_mcp_6(serie_1corta_sucre,serie_2larga_sucre,2011,1)\n",
    "serie_final_agnosucre=ajuste_mcp_agno(serie_1corta_sucre,serie_2larga_sucre,2015,1)"
   ]
  },
  {
   "cell_type": "markdown",
   "metadata": {},
   "source": [
    "- CALCULO ENFICC"
   ]
  },
  {
   "cell_type": "code",
   "execution_count": 116,
   "metadata": {},
   "outputs": [
    {
     "name": "stdout",
     "output_type": "stream",
     "text": [
      "La ENFICC 99% es:  2.37964439946\n"
     ]
    },
    {
     "data": {
      "text/plain": [
       "2.3796443994605623"
      ]
     },
     "execution_count": 116,
     "metadata": {},
     "output_type": "execute_result"
    }
   ],
   "source": [
    "#Cálculo ENFICC para serie ideam \n",
    "calc_enficc(serie_1corta_sucre)"
   ]
  },
  {
   "cell_type": "code",
   "execution_count": 117,
   "metadata": {},
   "outputs": [
    {
     "name": "stdout",
     "output_type": "stream",
     "text": [
      "La ENFICC 99% es:  4.8399985\n"
     ]
    },
    {
     "data": {
      "text/plain": [
       "4.8399984999999992"
      ]
     },
     "execution_count": 117,
     "metadata": {},
     "output_type": "execute_result"
    }
   ],
   "source": [
    "#Cálculo ENFICC para serie NREL\n",
    "calc_enficc(serie_2larga_sucre)"
   ]
  },
  {
   "cell_type": "code",
   "execution_count": 118,
   "metadata": {},
   "outputs": [
    {
     "name": "stdout",
     "output_type": "stream",
     "text": [
      "La ENFICC 99% es:  3.90812208849\n"
     ]
    },
    {
     "data": {
      "text/plain": [
       "3.9081220884904537"
      ]
     },
     "execution_count": 118,
     "metadata": {},
     "output_type": "execute_result"
    }
   ],
   "source": [
    "#Cálculo ENFICC para serie ajustada (primeros 3 meses del 2015)\n",
    "calc_enficc(serie_final_3sucre)"
   ]
  },
  {
   "cell_type": "code",
   "execution_count": 119,
   "metadata": {},
   "outputs": [
    {
     "name": "stdout",
     "output_type": "stream",
     "text": [
      "La ENFICC 99% es:  4.35816853384\n"
     ]
    },
    {
     "data": {
      "text/plain": [
       "4.3581685338354514"
      ]
     },
     "execution_count": 119,
     "metadata": {},
     "output_type": "execute_result"
    }
   ],
   "source": [
    "#Cálculo ENFICC para serie ajustada (primeros 6 meses del 2011)\n",
    "calc_enficc(serie_final_6sucre)"
   ]
  },
  {
   "cell_type": "code",
   "execution_count": 120,
   "metadata": {},
   "outputs": [
    {
     "name": "stdout",
     "output_type": "stream",
     "text": [
      "La ENFICC 99% es:  4.09479509769\n"
     ]
    },
    {
     "data": {
      "text/plain": [
       "4.0947950976904597"
      ]
     },
     "execution_count": 120,
     "metadata": {},
     "output_type": "execute_result"
    }
   ],
   "source": [
    "#Cálculo ENFICC para serie ajustada (año del 2015)\n",
    "calc_enficc(serie_final_agnosucre)"
   ]
  },
  {
   "cell_type": "markdown",
   "metadata": {},
   "source": [
    "- SERIE AJUSTADA Y GRÁFICA COMPARATIVA"
   ]
  },
  {
   "cell_type": "markdown",
   "metadata": {},
   "source": [
    "A continuación se muestra la serie ajustada teniendo en cuenta los primeros 3 meses del 2015."
   ]
  },
  {
   "cell_type": "markdown",
   "metadata": {},
   "source": [
    "Abajo se muestra la gráfica comparativa teniendo en cuenta los promedios mensuales por los años de la serie IDEAM (es la más cortas)"
   ]
  },
  {
   "cell_type": "code",
   "execution_count": 121,
   "metadata": {},
   "outputs": [
    {
     "data": {
      "text/plain": [
       "<matplotlib.legend.Legend at 0x7f00103b0940>"
      ]
     },
     "execution_count": 121,
     "metadata": {},
     "output_type": "execute_result"
    },
    {
     "data": {
      "image/png": "[encoded data removed]",
      "text/plain": [
       "<matplotlib.figure.Figure at 0x7f001068d5c0>"
      ]
     },
     "metadata": {},
     "output_type": "display_data"
    }
   ],
   "source": [
    "ghi_mensual_ajust = ghi_mensual(serie_final_3sucre)\n",
    "ghi_diario_ajust = ghi_dia(ghi_mensual_ajust)\n",
    "datos_ajustados = sorted(ghi_diario_ajust[\"PROMEDIO\"])\n",
    "\n",
    "ghi_mensual_NREL = ghi_mensual(serie_2larga_sucre)\n",
    "ghi_diario_NREL = ghi_dia(ghi_mensual_NREL)\n",
    "datos_NREL = sorted(ghi_diario_NREL[\"PROMEDIO\"])\n",
    "\n",
    "ghi_mensual_IDEAM = ghi_mensual(serie_1corta_sucre)\n",
    "ghi_diario_IDEAM = ghi_dia(ghi_mensual_IDEAM)\n",
    "datos_IDEAM = sorted(ghi_diario_IDEAM[\"PROMEDIO\"])\n",
    "\n",
    "numdatos_ajustados = range(len(datos_ajustados))\n",
    "numdatos_NREL = range(len(datos_NREL))\n",
    "numdatos_IDEAM = range(len(datos_IDEAM))\n",
    "\n",
    "pylab.plot(numdatos_ajustados,datos_ajustados,'-k', label='Ajustados')\n",
    "pylab.plot(numdatos_NREL,datos_NREL,'-r', label='NREL')\n",
    "pylab.plot(numdatos_IDEAM,datos_IDEAM,'-b', label='IDEAM')\n",
    "pylab.legend(loc='upper left')"
   ]
  },
  {
   "cell_type": "markdown",
   "metadata": {},
   "source": [
    "Ahora, para poder analizar a profundidad el caso de Sucre, se aumento la cantidad de meses de referencia de la serie IDEAM de 3 a 6, y se cambio el año de estudio al 2011"
   ]
  },
  {
   "cell_type": "code",
   "execution_count": 122,
   "metadata": {},
   "outputs": [
    {
     "data": {
      "text/plain": [
       "<matplotlib.legend.Legend at 0x7f001032ad68>"
      ]
     },
     "execution_count": 122,
     "metadata": {},
     "output_type": "execute_result"
    },
    {
     "data": {
      "image/png": "[encoded data removed]",
      "text/plain": [
       "<matplotlib.figure.Figure at 0x7f00106a53c8>"
      ]
     },
     "metadata": {},
     "output_type": "display_data"
    }
   ],
   "source": [
    "ghi_mensual_ajust = ghi_mensual(serie_final_6sucre)\n",
    "ghi_diario_ajust = ghi_dia(ghi_mensual_ajust)\n",
    "datos_ajustados = sorted(ghi_diario_ajust[\"PROMEDIO\"])\n",
    "\n",
    "ghi_mensual_NREL = ghi_mensual(serie_2larga_sucre)\n",
    "ghi_diario_NREL = ghi_dia(ghi_mensual_NREL)\n",
    "datos_NREL = sorted(ghi_diario_NREL[\"PROMEDIO\"])\n",
    "\n",
    "ghi_mensual_IDEAM = ghi_mensual(serie_1corta_sucre)\n",
    "ghi_diario_IDEAM = ghi_dia(ghi_mensual_IDEAM)\n",
    "datos_IDEAM = sorted(ghi_diario_IDEAM[\"PROMEDIO\"])\n",
    "\n",
    "numdatos_ajustados = range(len(datos_ajustados))\n",
    "numdatos_NREL = range(len(datos_NREL))\n",
    "numdatos_IDEAM = range(len(datos_IDEAM))\n",
    "\n",
    "pylab.plot(numdatos_ajustados,datos_ajustados,'-k', label='Ajustados')\n",
    "pylab.plot(numdatos_NREL,datos_NREL,'-r', label='NREL')\n",
    "pylab.plot(numdatos_IDEAM,datos_IDEAM,'-b', label='IDEAM')\n",
    "pylab.legend(loc='upper left')"
   ]
  },
  {
   "cell_type": "markdown",
   "metadata": {},
   "source": [
    "Finalmente se evaluara teniendo como referencia al año 2015"
   ]
  },
  {
   "cell_type": "code",
   "execution_count": 123,
   "metadata": {},
   "outputs": [
    {
     "data": {
      "text/plain": [
       "<matplotlib.legend.Legend at 0x7f00102b74a8>"
      ]
     },
     "execution_count": 123,
     "metadata": {},
     "output_type": "execute_result"
    },
    {
     "data": {
      "image/png": "[encoded data removed]",
      "text/plain": [
       "<matplotlib.figure.Figure at 0x7f00106fe6d8>"
      ]
     },
     "metadata": {},
     "output_type": "display_data"
    }
   ],
   "source": [
    "ghi_mensual_ajust = ghi_mensual(serie_final_agnosucre)\n",
    "ghi_diario_ajust = ghi_dia(ghi_mensual_ajust)\n",
    "datos_ajustados = sorted(ghi_diario_ajust[\"PROMEDIO\"])\n",
    "\n",
    "ghi_mensual_NREL = ghi_mensual(serie_2larga_sucre)\n",
    "ghi_diario_NREL = ghi_dia(ghi_mensual_NREL)\n",
    "datos_NREL = sorted(ghi_diario_NREL[\"PROMEDIO\"])\n",
    "\n",
    "ghi_mensual_IDEAM = ghi_mensual(serie_1corta_sucre)\n",
    "ghi_diario_IDEAM = ghi_dia(ghi_mensual_IDEAM)\n",
    "datos_IDEAM = sorted(ghi_diario_IDEAM[\"PROMEDIO\"])\n",
    "\n",
    "numdatos_ajustados = range(len(datos_ajustados))\n",
    "numdatos_NREL = range(len(datos_NREL))\n",
    "numdatos_IDEAM = range(len(datos_IDEAM))\n",
    "\n",
    "pylab.plot(numdatos_ajustados,datos_ajustados,'-k', label='Ajustados')\n",
    "pylab.plot(numdatos_NREL,datos_NREL,'-r', label='NREL')\n",
    "pylab.plot(numdatos_IDEAM,datos_IDEAM,'-b', label='IDEAM')\n",
    "pylab.legend(loc='upper left')"
   ]
  },
  {
   "cell_type": "markdown",
   "metadata": {},
   "source": [
    "- CÁLCULO DE ERROR Y ANÁLISIS "
   ]
  },
  {
   "cell_type": "markdown",
   "metadata": {},
   "source": [
    "ERROR RMSEn "
   ]
  },
  {
   "cell_type": "code",
   "execution_count": 124,
   "metadata": {},
   "outputs": [
    {
     "data": {
      "text/plain": [
       "0.12001598949829785"
      ]
     },
     "execution_count": 124,
     "metadata": {},
     "output_type": "execute_result"
    }
   ],
   "source": [
    "#Cálculo de error entre serie IDEAM y serie NREL\n",
    "RMSEn (serie_1corta_sucre,serie_2larga_sucre)"
   ]
  },
  {
   "cell_type": "markdown",
   "metadata": {},
   "source": [
    "Primeros 3 meses del 2015"
   ]
  },
  {
   "cell_type": "code",
   "execution_count": 125,
   "metadata": {},
   "outputs": [
    {
     "data": {
      "text/plain": [
       "0.10456195622730625"
      ]
     },
     "execution_count": 125,
     "metadata": {},
     "output_type": "execute_result"
    }
   ],
   "source": [
    "#Cálculo de error entre serie IDEAM y serie ajustada\n",
    "RMSEn (serie_1corta_sucre,serie_final_3sucre)"
   ]
  },
  {
   "cell_type": "markdown",
   "metadata": {},
   "source": [
    "Primeros 6 meses del 2011"
   ]
  },
  {
   "cell_type": "code",
   "execution_count": 126,
   "metadata": {},
   "outputs": [
    {
     "data": {
      "text/plain": [
       "0.10866819436444751"
      ]
     },
     "execution_count": 126,
     "metadata": {},
     "output_type": "execute_result"
    }
   ],
   "source": [
    "#Cálculo de error entre serie IDEAM y serie ajustada\n",
    "RMSEn (serie_1corta_sucre,serie_final_6sucre)"
   ]
  },
  {
   "cell_type": "markdown",
   "metadata": {},
   "source": [
    "Año del 2015"
   ]
  },
  {
   "cell_type": "code",
   "execution_count": 127,
   "metadata": {},
   "outputs": [
    {
     "data": {
      "text/plain": [
       "0.10530024502057538"
      ]
     },
     "execution_count": 127,
     "metadata": {},
     "output_type": "execute_result"
    }
   ],
   "source": [
    "#Cálculo de error entre serie IDEAM y serie ajustada\n",
    "RMSEn (serie_1corta_sucre,serie_final_agnosucre)"
   ]
  },
  {
   "cell_type": "markdown",
   "metadata": {},
   "source": [
    "ERROR MBE"
   ]
  },
  {
   "cell_type": "code",
   "execution_count": 128,
   "metadata": {},
   "outputs": [
    {
     "data": {
      "text/plain": [
       "0.17384141999352437"
      ]
     },
     "execution_count": 128,
     "metadata": {},
     "output_type": "execute_result"
    }
   ],
   "source": [
    "#Cálculo de error entre serie IDEAM y serie NREL\n",
    "MBE (serie_1corta_sucre,serie_2larga_sucre)"
   ]
  },
  {
   "cell_type": "markdown",
   "metadata": {},
   "source": [
    "Primeros 3 meses del 2015"
   ]
  },
  {
   "cell_type": "code",
   "execution_count": 129,
   "metadata": {},
   "outputs": [
    {
     "data": {
      "text/plain": [
       "-0.050411881127704651"
      ]
     },
     "execution_count": 129,
     "metadata": {},
     "output_type": "execute_result"
    }
   ],
   "source": [
    "#Cálculo de error entre serie IDEAM y serie ajustada\n",
    "MBE (serie_1corta_sucre,serie_final_3sucre)"
   ]
  },
  {
   "cell_type": "markdown",
   "metadata": {},
   "source": [
    "Primeros 6 meses del 2011"
   ]
  },
  {
   "cell_type": "code",
   "execution_count": 130,
   "metadata": {},
   "outputs": [
    {
     "data": {
      "text/plain": [
       "0.059261306159492176"
      ]
     },
     "execution_count": 130,
     "metadata": {},
     "output_type": "execute_result"
    }
   ],
   "source": [
    "#Cálculo de error entre serie IDEAM y serie NREL\n",
    "MBE (serie_1corta_sucre,serie_final_6sucre)"
   ]
  },
  {
   "cell_type": "markdown",
   "metadata": {},
   "source": [
    "Año del 2015"
   ]
  },
  {
   "cell_type": "code",
   "execution_count": 131,
   "metadata": {},
   "outputs": [
    {
     "data": {
      "text/plain": [
       "-0.0046730647022469327"
      ]
     },
     "execution_count": 131,
     "metadata": {},
     "output_type": "execute_result"
    }
   ],
   "source": [
    "#Cálculo de error entre serie IDEAM y serie NREL\n",
    "MBE (serie_1corta_sucre,serie_final_agnosucre)"
   ]
  },
  {
   "cell_type": "markdown",
   "metadata": {},
   "source": [
    "Para Sucre, con respecto al cálculo de la ENFICC, se puede observar que para el caso del fenomeno de la niña, la ENFICC es mayor al ajustar la serie teniendo como base mayor numero de meses como referencia para ajustar la serie de NREL, y que este valor es mayor para el periodo donde se presentó el fenómeno del niño. Gráficamente se puede observar que la calidad del ajuste no depende de la cantidad de meses que se tenga en cuenta como base para el cálculo. Esto se ve reflejado en la magnitud de los errores calculados, se ve que los porcentajes de error son muy similares entre si, sin depender de la cantidad de tiempo estudiada. Adicionalmente, se puede ver que en la mayoria del tiempo, se esta subestimando la radiación en los casos donde estuvo presente el fenónemo de la niña, y sobrestimandola para el periodo donde se presento el fenomeno del niño."
   ]
  },
  {
   "cell_type": "markdown",
   "metadata": {},
   "source": [
    "## URIBIA "
   ]
  },
  {
   "cell_type": "code",
   "execution_count": 132,
   "metadata": {},
   "outputs": [],
   "source": [
    "serie_final_3uribia=ajuste_mcp_3(serie_1corta_uribia,serie_2larga_uribia,2015,1)\n",
    "serie_final_6uribia=ajuste_mcp_6(serie_1corta_uribia,serie_2larga_uribia,2011,1)\n",
    "serie_final_agnouribia=ajuste_mcp_agno(serie_1corta_uribia,serie_2larga_uribia,2015,1)"
   ]
  },
  {
   "cell_type": "markdown",
   "metadata": {},
   "source": [
    "- CALCULO ENFICC"
   ]
  },
  {
   "cell_type": "code",
   "execution_count": 133,
   "metadata": {},
   "outputs": [
    {
     "name": "stdout",
     "output_type": "stream",
     "text": [
      "La ENFICC 99% es:  4.2818970848\n"
     ]
    },
    {
     "data": {
      "text/plain": [
       "4.2818970848011517"
      ]
     },
     "execution_count": 133,
     "metadata": {},
     "output_type": "execute_result"
    }
   ],
   "source": [
    "#Cálculo ENFICC para serie ideam \n",
    "calc_enficc(serie_1corta_uribia)"
   ]
  },
  {
   "cell_type": "code",
   "execution_count": 134,
   "metadata": {},
   "outputs": [
    {
     "name": "stdout",
     "output_type": "stream",
     "text": [
      "La ENFICC 99% es:  4.62250183333\n"
     ]
    },
    {
     "data": {
      "text/plain": [
       "4.6225018333333328"
      ]
     },
     "execution_count": 134,
     "metadata": {},
     "output_type": "execute_result"
    }
   ],
   "source": [
    "#Cálculo ENFICC para serie NREL\n",
    "calc_enficc(serie_2larga_uribia)"
   ]
  },
  {
   "cell_type": "code",
   "execution_count": 135,
   "metadata": {},
   "outputs": [
    {
     "name": "stdout",
     "output_type": "stream",
     "text": [
      "La ENFICC 99% es:  3.97698104634\n"
     ]
    },
    {
     "data": {
      "text/plain": [
       "3.9769810463447337"
      ]
     },
     "execution_count": 135,
     "metadata": {},
     "output_type": "execute_result"
    }
   ],
   "source": [
    "#Cálculo ENFICC para serie ajustada (primeros 3 meses del 2015)\n",
    "calc_enficc(serie_final_3uribia)"
   ]
  },
  {
   "cell_type": "code",
   "execution_count": 136,
   "metadata": {},
   "outputs": [
    {
     "name": "stdout",
     "output_type": "stream",
     "text": [
      "La ENFICC 99% es:  4.36931830063\n"
     ]
    },
    {
     "data": {
      "text/plain": [
       "4.3693183006294367"
      ]
     },
     "execution_count": 136,
     "metadata": {},
     "output_type": "execute_result"
    }
   ],
   "source": [
    "#Cálculo ENFICC para serie ajustada (primeros 6 meses del 2011)\n",
    "calc_enficc(serie_final_6uribia)"
   ]
  },
  {
   "cell_type": "code",
   "execution_count": 137,
   "metadata": {},
   "outputs": [
    {
     "name": "stdout",
     "output_type": "stream",
     "text": [
      "La ENFICC 99% es:  4.27107502926\n"
     ]
    },
    {
     "data": {
      "text/plain": [
       "4.2710750292613362"
      ]
     },
     "execution_count": 137,
     "metadata": {},
     "output_type": "execute_result"
    }
   ],
   "source": [
    "#Cálculo ENFICC para serie ajustada (año del 2015)\n",
    "calc_enficc(serie_final_agnouribia)"
   ]
  },
  {
   "cell_type": "markdown",
   "metadata": {},
   "source": [
    "- SERIE AJUSTADA Y GRÁFICA COMPARATIVA"
   ]
  },
  {
   "cell_type": "markdown",
   "metadata": {},
   "source": [
    "A continuación se muestra la serie ajustada teniendo en cuenta los primeros 3 meses del 2015."
   ]
  },
  {
   "cell_type": "markdown",
   "metadata": {},
   "source": [
    "Abajo se muestra la gráfica comparativa teniendo en cuenta los promedios mensuales por los años de la serie IDEAM (es la más cortas)"
   ]
  },
  {
   "cell_type": "code",
   "execution_count": 138,
   "metadata": {},
   "outputs": [
    {
     "data": {
      "text/plain": [
       "<matplotlib.legend.Legend at 0x7f000ff84588>"
      ]
     },
     "execution_count": 138,
     "metadata": {},
     "output_type": "execute_result"
    },
    {
     "data": {
      "image/png": "[encoded data removed]",
      "text/plain": [
       "<matplotlib.figure.Figure at 0x7f00103f77b8>"
      ]
     },
     "metadata": {},
     "output_type": "display_data"
    }
   ],
   "source": [
    "ghi_mensual_ajust = ghi_mensual(serie_final_3uribia)\n",
    "ghi_diario_ajust = ghi_dia(ghi_mensual_ajust)\n",
    "datos_ajustados = sorted(ghi_diario_ajust[\"PROMEDIO\"])\n",
    "\n",
    "ghi_mensual_NREL = ghi_mensual(serie_2larga_uribia)\n",
    "ghi_diario_NREL = ghi_dia(ghi_mensual_NREL)\n",
    "datos_NREL = sorted(ghi_diario_NREL[\"PROMEDIO\"])\n",
    "\n",
    "ghi_mensual_IDEAM = ghi_mensual(serie_1corta_uribia)\n",
    "ghi_diario_IDEAM = ghi_dia(ghi_mensual_IDEAM)\n",
    "datos_IDEAM = sorted(ghi_diario_IDEAM[\"PROMEDIO\"])\n",
    "\n",
    "numdatos_ajustados = range(len(datos_ajustados))\n",
    "numdatos_NREL = range(len(datos_NREL))\n",
    "numdatos_IDEAM = range(len(datos_IDEAM))\n",
    "\n",
    "pylab.plot(numdatos_ajustados,datos_ajustados,'-k', label='Ajustados')\n",
    "pylab.plot(numdatos_NREL,datos_NREL,'-r', label='NREL')\n",
    "pylab.plot(numdatos_IDEAM,datos_IDEAM,'-b', label='IDEAM')\n",
    "pylab.legend(loc='upper left')"
   ]
  },
  {
   "cell_type": "markdown",
   "metadata": {},
   "source": [
    "Ahora, para poder analizar a profundidad el caso de Uribia, se aumento la cantidad de meses de referencia de la serie IDEAM de 3 a 6, y se cambio el año de estudio al 2011"
   ]
  },
  {
   "cell_type": "code",
   "execution_count": 139,
   "metadata": {},
   "outputs": [
    {
     "data": {
      "text/plain": [
       "<matplotlib.legend.Legend at 0x7f000ff02c88>"
      ]
     },
     "execution_count": 139,
     "metadata": {},
     "output_type": "execute_result"
    },
    {
     "data": {
      "image/png": "[encoded data removed]",
      "text/plain": [
       "<matplotlib.figure.Figure at 0x7f000ff9deb8>"
      ]
     },
     "metadata": {},
     "output_type": "display_data"
    }
   ],
   "source": [
    "ghi_mensual_ajust = ghi_mensual(serie_final_6uribia)\n",
    "ghi_diario_ajust = ghi_dia(ghi_mensual_ajust)\n",
    "datos_ajustados = sorted(ghi_diario_ajust[\"PROMEDIO\"])\n",
    "\n",
    "ghi_mensual_NREL = ghi_mensual(serie_2larga_uribia)\n",
    "ghi_diario_NREL = ghi_dia(ghi_mensual_NREL)\n",
    "datos_NREL = sorted(ghi_diario_NREL[\"PROMEDIO\"])\n",
    "\n",
    "ghi_mensual_IDEAM = ghi_mensual(serie_1corta_uribia)\n",
    "ghi_diario_IDEAM = ghi_dia(ghi_mensual_IDEAM)\n",
    "datos_IDEAM = sorted(ghi_diario_IDEAM[\"PROMEDIO\"])\n",
    "\n",
    "numdatos_ajustados = range(len(datos_ajustados))\n",
    "numdatos_NREL = range(len(datos_NREL))\n",
    "numdatos_IDEAM = range(len(datos_IDEAM))\n",
    "\n",
    "pylab.plot(numdatos_ajustados,datos_ajustados,'-k', label='Ajustados')\n",
    "pylab.plot(numdatos_NREL,datos_NREL,'-r', label='NREL')\n",
    "pylab.plot(numdatos_IDEAM,datos_IDEAM,'-b', label='IDEAM')\n",
    "pylab.legend(loc='upper left')"
   ]
  },
  {
   "cell_type": "markdown",
   "metadata": {},
   "source": [
    "Finalmente se evaluara teniendo como referencia el año 2015"
   ]
  },
  {
   "cell_type": "code",
   "execution_count": 140,
   "metadata": {},
   "outputs": [
    {
     "data": {
      "text/plain": [
       "<matplotlib.legend.Legend at 0x7f000fe83dd8>"
      ]
     },
     "execution_count": 140,
     "metadata": {},
     "output_type": "execute_result"
    },
    {
     "data": {
      "image/png": "[encoded data removed]",
      "text/plain": [
       "<matplotlib.figure.Figure at 0x7f000ff2bb38>"
      ]
     },
     "metadata": {},
     "output_type": "display_data"
    }
   ],
   "source": [
    "ghi_mensual_ajust = ghi_mensual(serie_final_agnouribia)\n",
    "ghi_diario_ajust = ghi_dia(ghi_mensual_ajust)\n",
    "datos_ajustados = sorted(ghi_diario_ajust[\"PROMEDIO\"])\n",
    "\n",
    "ghi_mensual_NREL = ghi_mensual(serie_2larga_uribia)\n",
    "ghi_diario_NREL = ghi_dia(ghi_mensual_NREL)\n",
    "datos_NREL = sorted(ghi_diario_NREL[\"PROMEDIO\"])\n",
    "\n",
    "ghi_mensual_IDEAM = ghi_mensual(serie_1corta_uribia)\n",
    "ghi_diario_IDEAM = ghi_dia(ghi_mensual_IDEAM)\n",
    "datos_IDEAM = sorted(ghi_diario_IDEAM[\"PROMEDIO\"])\n",
    "\n",
    "numdatos_ajustados = range(len(datos_ajustados))\n",
    "numdatos_NREL = range(len(datos_NREL))\n",
    "numdatos_IDEAM = range(len(datos_IDEAM))\n",
    "\n",
    "pylab.plot(numdatos_ajustados,datos_ajustados,'-k', label='Ajustados')\n",
    "pylab.plot(numdatos_NREL,datos_NREL,'-r', label='NREL')\n",
    "pylab.plot(numdatos_IDEAM,datos_IDEAM,'-b', label='IDEAM')\n",
    "pylab.legend(loc='upper left')"
   ]
  },
  {
   "cell_type": "markdown",
   "metadata": {},
   "source": [
    "- CÁLCULO DE ERROR Y ANÁLISIS "
   ]
  },
  {
   "cell_type": "markdown",
   "metadata": {},
   "source": [
    "ERROR RMSEn"
   ]
  },
  {
   "cell_type": "code",
   "execution_count": 141,
   "metadata": {},
   "outputs": [
    {
     "data": {
      "text/plain": [
       "0.11568536852112453"
      ]
     },
     "execution_count": 141,
     "metadata": {},
     "output_type": "execute_result"
    }
   ],
   "source": [
    "#Cálculo de error entre serie IDEAM y serie NREL\n",
    "RMSEn (serie_1corta_uribia,serie_2larga_uribia)"
   ]
  },
  {
   "cell_type": "markdown",
   "metadata": {},
   "source": [
    "Primeros 3 meses del 2015"
   ]
  },
  {
   "cell_type": "code",
   "execution_count": 142,
   "metadata": {},
   "outputs": [
    {
     "data": {
      "text/plain": [
       "0.10960566864442037"
      ]
     },
     "execution_count": 142,
     "metadata": {},
     "output_type": "execute_result"
    }
   ],
   "source": [
    "#Cálculo de error entre serie IDEAM y serie ajustada\n",
    "RMSEn (serie_1corta_uribia,serie_final_3uribia)"
   ]
  },
  {
   "cell_type": "markdown",
   "metadata": {},
   "source": [
    "Primeros 6 meses del 2011"
   ]
  },
  {
   "cell_type": "code",
   "execution_count": 143,
   "metadata": {},
   "outputs": [
    {
     "data": {
      "text/plain": [
       "0.11202202444303438"
      ]
     },
     "execution_count": 143,
     "metadata": {},
     "output_type": "execute_result"
    }
   ],
   "source": [
    "#Cálculo de error entre serie IDEAM y serie ajustada\n",
    "RMSEn (serie_1corta_uribia,serie_final_6uribia)"
   ]
  },
  {
   "cell_type": "markdown",
   "metadata": {},
   "source": [
    "Año del 2015"
   ]
  },
  {
   "cell_type": "code",
   "execution_count": 144,
   "metadata": {},
   "outputs": [
    {
     "data": {
      "text/plain": [
       "0.11122277817084747"
      ]
     },
     "execution_count": 144,
     "metadata": {},
     "output_type": "execute_result"
    }
   ],
   "source": [
    "#Cálculo de error entre serie IDEAM y serie ajustada\n",
    "RMSEn (serie_1corta_uribia,serie_final_agnouribia)"
   ]
  },
  {
   "cell_type": "markdown",
   "metadata": {},
   "source": [
    "ERROR MBE"
   ]
  },
  {
   "cell_type": "code",
   "execution_count": 145,
   "metadata": {},
   "outputs": [
    {
     "data": {
      "text/plain": [
       "0.081697774398829096"
      ]
     },
     "execution_count": 145,
     "metadata": {},
     "output_type": "execute_result"
    }
   ],
   "source": [
    "#Cálculo de error entre serie IDEAM y serie NREL\n",
    "MBE (serie_1corta_uribia,serie_2larga_uribia)"
   ]
  },
  {
   "cell_type": "markdown",
   "metadata": {},
   "source": [
    "Primeros 3 meses del 2015"
   ]
  },
  {
   "cell_type": "code",
   "execution_count": 146,
   "metadata": {},
   "outputs": [
    {
     "data": {
      "text/plain": [
       "-0.065245805769991866"
      ]
     },
     "execution_count": 146,
     "metadata": {},
     "output_type": "execute_result"
    }
   ],
   "source": [
    "#Cálculo de error entre serie IDEAM y serie ajustada\n",
    "MBE (serie_1corta_uribia,serie_final_3uribia)"
   ]
  },
  {
   "cell_type": "markdown",
   "metadata": {},
   "source": [
    "Primeros 6 meses del 2011"
   ]
  },
  {
   "cell_type": "code",
   "execution_count": 147,
   "metadata": {},
   "outputs": [
    {
     "data": {
      "text/plain": [
       "0.026103564434003593"
      ]
     },
     "execution_count": 147,
     "metadata": {},
     "output_type": "execute_result"
    }
   ],
   "source": [
    "#Cálculo de error entre serie IDEAM y serie NREL\n",
    "MBE (serie_1corta_uribia,serie_final_6uribia)"
   ]
  },
  {
   "cell_type": "markdown",
   "metadata": {},
   "source": [
    "Año del 2015"
   ]
  },
  {
   "cell_type": "code",
   "execution_count": 148,
   "metadata": {},
   "outputs": [
    {
     "data": {
      "text/plain": [
       "0.0052426304755304985"
      ]
     },
     "execution_count": 148,
     "metadata": {},
     "output_type": "execute_result"
    }
   ],
   "source": [
    "#Cálculo de error entre serie IDEAM y serie NREL\n",
    "MBE (serie_1corta_uribia,serie_final_agnouribia)"
   ]
  },
  {
   "cell_type": "markdown",
   "metadata": {},
   "source": [
    "Para Uribia, con respecto al cálculo de la ENFICC,al igual que en Sucre, se puede observar que para el caso del fenomeno de la niña, la ENFICC es mayor al ajustar la serie teniendo como base mayor numero de meses como referencia para ajustar la serie de NREL, y que este valor es mayor para el periodo donde se presentó el fenómeno del niño. Gráficamente se puede observar que la calidad del ajuste no depende de la cantidad de meses que se tenga en cuenta como base para el cálculo. Esto se ve reflejado en la magnitud de los errores calculados, se ve que los porcentajes de error son muy similares entre si, sin depender de la cantidad de tiempo estudiada. "
   ]
  },
  {
   "cell_type": "markdown",
   "metadata": {},
   "source": [
    "## VALLEDUPAR"
   ]
  },
  {
   "cell_type": "code",
   "execution_count": 149,
   "metadata": {},
   "outputs": [],
   "source": [
    "serie_final_3valledupar=ajuste_mcp_3(serie_1corta_valledupar,serie_2larga_valledupar,2015,1)\n",
    "serie_final_6valledupar=ajuste_mcp_6(serie_1corta_valledupar,serie_2larga_valledupar,2011,1)\n",
    "serie_final_agnovalledupar=ajuste_mcp_agno(serie_1corta_valledupar,serie_2larga_valledupar,2015,1)"
   ]
  },
  {
   "cell_type": "code",
   "execution_count": 150,
   "metadata": {},
   "outputs": [
    {
     "name": "stdout",
     "output_type": "stream",
     "text": [
      "La ENFICC 99% es:  4.56900737661\n"
     ]
    },
    {
     "data": {
      "text/plain": [
       "4.5690073766119133"
      ]
     },
     "execution_count": 150,
     "metadata": {},
     "output_type": "execute_result"
    }
   ],
   "source": [
    "#Cálculo ENFICC para serie ideam \n",
    "calc_enficc(serie_1corta_valledupar)"
   ]
  },
  {
   "cell_type": "code",
   "execution_count": 151,
   "metadata": {},
   "outputs": [
    {
     "name": "stdout",
     "output_type": "stream",
     "text": [
      "La ENFICC 99% es:  5.06265316667\n"
     ]
    },
    {
     "data": {
      "text/plain": [
       "5.0626531666666672"
      ]
     },
     "execution_count": 151,
     "metadata": {},
     "output_type": "execute_result"
    }
   ],
   "source": [
    "#Cálculo ENFICC para serie NREL\n",
    "calc_enficc(serie_2larga_valledupar)"
   ]
  },
  {
   "cell_type": "code",
   "execution_count": 152,
   "metadata": {},
   "outputs": [
    {
     "name": "stdout",
     "output_type": "stream",
     "text": [
      "La ENFICC 99% es:  5.06659928379\n"
     ]
    },
    {
     "data": {
      "text/plain": [
       "5.0665992837874949"
      ]
     },
     "execution_count": 152,
     "metadata": {},
     "output_type": "execute_result"
    }
   ],
   "source": [
    "#Cálculo ENFICC para serie ajustada (primeros 3 meses del 2015)\n",
    "calc_enficc(serie_final_3valledupar)"
   ]
  },
  {
   "cell_type": "code",
   "execution_count": 153,
   "metadata": {},
   "outputs": [
    {
     "name": "stdout",
     "output_type": "stream",
     "text": [
      "La ENFICC 99% es:  4.50546667949\n"
     ]
    },
    {
     "data": {
      "text/plain": [
       "4.5054666794935425"
      ]
     },
     "execution_count": 153,
     "metadata": {},
     "output_type": "execute_result"
    }
   ],
   "source": [
    "#Cálculo ENFICC para serie ajustada (primeros 6 meses del 2011)\n",
    "calc_enficc(serie_final_6valledupar)"
   ]
  },
  {
   "cell_type": "code",
   "execution_count": 154,
   "metadata": {},
   "outputs": [
    {
     "name": "stdout",
     "output_type": "stream",
     "text": [
      "La ENFICC 99% es:  4.50546667949\n"
     ]
    },
    {
     "data": {
      "text/plain": [
       "4.5054666794935425"
      ]
     },
     "execution_count": 154,
     "metadata": {},
     "output_type": "execute_result"
    }
   ],
   "source": [
    "#Cálculo ENFICC para serie ajustada (año del 2015)\n",
    "calc_enficc(serie_final_6valledupar)"
   ]
  },
  {
   "cell_type": "markdown",
   "metadata": {},
   "source": [
    "- SERIE AJUSTADA Y GRÁFICA COMPARATIVA"
   ]
  },
  {
   "cell_type": "markdown",
   "metadata": {},
   "source": [
    "A continuación se muestra la serie ajustada teniendo en cuenta los primeros 3 meses del 2015."
   ]
  },
  {
   "cell_type": "markdown",
   "metadata": {},
   "source": [
    "Abajo se muestra la gráfica comparativa teniendo en cuenta los promedios mensuales por los años de la serie IDEAM (es la más cortas)"
   ]
  },
  {
   "cell_type": "code",
   "execution_count": 155,
   "metadata": {},
   "outputs": [
    {
     "data": {
      "text/plain": [
       "<matplotlib.legend.Legend at 0x7f00114ecda0>"
      ]
     },
     "execution_count": 155,
     "metadata": {},
     "output_type": "execute_result"
    },
    {
     "data": {
      "image/png": "[encoded data removed]",
      "text/plain": [
       "<matplotlib.figure.Figure at 0x7f001038ed68>"
      ]
     },
     "metadata": {},
     "output_type": "display_data"
    }
   ],
   "source": [
    "ghi_mensual_ajust = ghi_mensual(serie_final_3valledupar)\n",
    "ghi_diario_ajust = ghi_dia(ghi_mensual_ajust)\n",
    "datos_ajustados = sorted(ghi_diario_ajust[\"PROMEDIO\"])\n",
    "\n",
    "ghi_mensual_NREL = ghi_mensual(serie_2larga_valledupar)\n",
    "ghi_diario_NREL = ghi_dia(ghi_mensual_NREL)\n",
    "datos_NREL = sorted(ghi_diario_NREL[\"PROMEDIO\"])\n",
    "\n",
    "ghi_mensual_IDEAM = ghi_mensual(serie_1corta_valledupar)\n",
    "ghi_diario_IDEAM = ghi_dia(ghi_mensual_IDEAM)\n",
    "datos_IDEAM = sorted(ghi_diario_IDEAM[\"PROMEDIO\"])\n",
    "\n",
    "numdatos_ajustados = range(len(datos_ajustados))\n",
    "numdatos_NREL = range(len(datos_NREL))\n",
    "numdatos_IDEAM = range(len(datos_IDEAM))\n",
    "\n",
    "pylab.plot(numdatos_ajustados,datos_ajustados,'-k', label='Ajustados')\n",
    "pylab.plot(numdatos_NREL,datos_NREL,'-r', label='NREL')\n",
    "pylab.plot(numdatos_IDEAM,datos_IDEAM,'-b', label='IDEAM')\n",
    "pylab.legend(loc='upper left')"
   ]
  },
  {
   "cell_type": "markdown",
   "metadata": {},
   "source": [
    "Ahora, para poder analizar a profundidad el caso de Valledupar, se aumento la cantidad de meses de referencia de la serie IDEAM de 3 a 6, y se cambio el año de estudio al 2011"
   ]
  },
  {
   "cell_type": "code",
   "execution_count": 156,
   "metadata": {},
   "outputs": [
    {
     "data": {
      "text/plain": [
       "<matplotlib.legend.Legend at 0x7f000fbe1cf8>"
      ]
     },
     "execution_count": 156,
     "metadata": {},
     "output_type": "execute_result"
    },
    {
     "data": {
      "image/png": "[encoded data removed]",
      "text/plain": [
       "<matplotlib.figure.Figure at 0x7f0010301eb8>"
      ]
     },
     "metadata": {},
     "output_type": "display_data"
    }
   ],
   "source": [
    "ghi_mensual_ajust = ghi_mensual(serie_final_6valledupar)\n",
    "ghi_diario_ajust = ghi_dia(ghi_mensual_ajust)\n",
    "datos_ajustados = sorted(ghi_diario_ajust[\"PROMEDIO\"])\n",
    "\n",
    "ghi_mensual_NREL = ghi_mensual(serie_2larga_valledupar)\n",
    "ghi_diario_NREL = ghi_dia(ghi_mensual_NREL)\n",
    "datos_NREL = sorted(ghi_diario_NREL[\"PROMEDIO\"])\n",
    "\n",
    "ghi_mensual_IDEAM = ghi_mensual(serie_1corta_valledupar)\n",
    "ghi_diario_IDEAM = ghi_dia(ghi_mensual_IDEAM)\n",
    "datos_IDEAM = sorted(ghi_diario_IDEAM[\"PROMEDIO\"])\n",
    "\n",
    "numdatos_ajustados = range(len(datos_ajustados))\n",
    "numdatos_NREL = range(len(datos_NREL))\n",
    "numdatos_IDEAM = range(len(datos_IDEAM))\n",
    "\n",
    "pylab.plot(numdatos_ajustados,datos_ajustados,'-k', label='Ajustados')\n",
    "pylab.plot(numdatos_NREL,datos_NREL,'-r', label='NREL')\n",
    "pylab.plot(numdatos_IDEAM,datos_IDEAM,'-b', label='IDEAM')\n",
    "pylab.legend(loc='upper left')"
   ]
  },
  {
   "cell_type": "markdown",
   "metadata": {},
   "source": [
    "Finalmente se evaluara teniendo como referencia el año 2015"
   ]
  },
  {
   "cell_type": "code",
   "execution_count": 157,
   "metadata": {},
   "outputs": [
    {
     "data": {
      "text/plain": [
       "<matplotlib.legend.Legend at 0x7f000fb67ac8>"
      ]
     },
     "execution_count": 157,
     "metadata": {},
     "output_type": "execute_result"
    },
    {
     "data": {
      "image/png": "[encoded data removed]",
      "text/plain": [
       "<matplotlib.figure.Figure at 0x7f00115544e0>"
      ]
     },
     "metadata": {},
     "output_type": "display_data"
    }
   ],
   "source": [
    "ghi_mensual_ajust = ghi_mensual(serie_final_agnovalledupar)\n",
    "ghi_diario_ajust = ghi_dia(ghi_mensual_ajust)\n",
    "datos_ajustados = sorted(ghi_diario_ajust[\"PROMEDIO\"])\n",
    "\n",
    "ghi_mensual_NREL = ghi_mensual(serie_2larga_valledupar)\n",
    "ghi_diario_NREL = ghi_dia(ghi_mensual_NREL)\n",
    "datos_NREL = sorted(ghi_diario_NREL[\"PROMEDIO\"])\n",
    "\n",
    "ghi_mensual_IDEAM = ghi_mensual(serie_1corta_valledupar)\n",
    "ghi_diario_IDEAM = ghi_dia(ghi_mensual_IDEAM)\n",
    "datos_IDEAM = sorted(ghi_diario_IDEAM[\"PROMEDIO\"])\n",
    "\n",
    "numdatos_ajustados = range(len(datos_ajustados))\n",
    "numdatos_NREL = range(len(datos_NREL))\n",
    "numdatos_IDEAM = range(len(datos_IDEAM))\n",
    "\n",
    "pylab.plot(numdatos_ajustados,datos_ajustados,'-k', label='Ajustados')\n",
    "pylab.plot(numdatos_NREL,datos_NREL,'-r', label='NREL')\n",
    "pylab.plot(numdatos_IDEAM,datos_IDEAM,'-b', label='IDEAM')\n",
    "pylab.legend(loc='upper left')"
   ]
  },
  {
   "cell_type": "markdown",
   "metadata": {},
   "source": [
    "ERROR RMSEn"
   ]
  },
  {
   "cell_type": "code",
   "execution_count": 158,
   "metadata": {},
   "outputs": [
    {
     "data": {
      "text/plain": [
       "0.090662375963546593"
      ]
     },
     "execution_count": 158,
     "metadata": {},
     "output_type": "execute_result"
    }
   ],
   "source": [
    "#Cálculo de error entre serie IDEAM y serie NREL\n",
    "RMSEn (serie_1corta_valledupar,serie_2larga_valledupar)"
   ]
  },
  {
   "cell_type": "markdown",
   "metadata": {},
   "source": [
    "Primeros 3 meses del 2015"
   ]
  },
  {
   "cell_type": "code",
   "execution_count": 159,
   "metadata": {},
   "outputs": [
    {
     "data": {
      "text/plain": [
       "0.091010221968542429"
      ]
     },
     "execution_count": 159,
     "metadata": {},
     "output_type": "execute_result"
    }
   ],
   "source": [
    "#Cálculo de error entre serie IDEAM y serie ajustada\n",
    "RMSEn (serie_1corta_valledupar,serie_final_3valledupar)"
   ]
  },
  {
   "cell_type": "markdown",
   "metadata": {},
   "source": [
    "Primeros 6 meses del 2011"
   ]
  },
  {
   "cell_type": "code",
   "execution_count": 160,
   "metadata": {},
   "outputs": [
    {
     "data": {
      "text/plain": [
       "0.083093885634734549"
      ]
     },
     "execution_count": 160,
     "metadata": {},
     "output_type": "execute_result"
    }
   ],
   "source": [
    "#Cálculo de error entre serie IDEAM y serie ajustada\n",
    "RMSEn (serie_1corta_valledupar,serie_final_6valledupar)"
   ]
  },
  {
   "cell_type": "markdown",
   "metadata": {},
   "source": [
    "Año del 2015"
   ]
  },
  {
   "cell_type": "code",
   "execution_count": 161,
   "metadata": {},
   "outputs": [
    {
     "data": {
      "text/plain": [
       "0.095305650804383191"
      ]
     },
     "execution_count": 161,
     "metadata": {},
     "output_type": "execute_result"
    }
   ],
   "source": [
    "#Cálculo de error entre serie IDEAM y serie ajustada\n",
    "RMSEn (serie_1corta_valledupar,serie_final_agnovalledupar)"
   ]
  },
  {
   "cell_type": "markdown",
   "metadata": {},
   "source": [
    "ERROR MBE "
   ]
  },
  {
   "cell_type": "code",
   "execution_count": 162,
   "metadata": {},
   "outputs": [
    {
     "data": {
      "text/plain": [
       "0.11498363884946664"
      ]
     },
     "execution_count": 162,
     "metadata": {},
     "output_type": "execute_result"
    }
   ],
   "source": [
    "#Cálculo de error entre serie IDEAM y serie NREL\n",
    "MBE (serie_1corta_valledupar,serie_2larga_valledupar)"
   ]
  },
  {
   "cell_type": "markdown",
   "metadata": {},
   "source": [
    "Primeros 3 meses del 2015"
   ]
  },
  {
   "cell_type": "code",
   "execution_count": 163,
   "metadata": {},
   "outputs": [
    {
     "data": {
      "text/plain": [
       "0.11656491788314551"
      ]
     },
     "execution_count": 163,
     "metadata": {},
     "output_type": "execute_result"
    }
   ],
   "source": [
    "#Cálculo de error entre serie IDEAM y serie ajustada\n",
    "MBE (serie_1corta_valledupar,serie_final_3valledupar)"
   ]
  },
  {
   "cell_type": "markdown",
   "metadata": {},
   "source": [
    "Primeros 6 meses del 2011"
   ]
  },
  {
   "cell_type": "code",
   "execution_count": 164,
   "metadata": {},
   "outputs": [
    {
     "data": {
      "text/plain": [
       "-0.003820803519605918"
      ]
     },
     "execution_count": 164,
     "metadata": {},
     "output_type": "execute_result"
    }
   ],
   "source": [
    "#Cálculo de error entre serie IDEAM y serie NREL\n",
    "MBE (serie_1corta_valledupar,serie_final_6valledupar)"
   ]
  },
  {
   "cell_type": "markdown",
   "metadata": {},
   "source": [
    "Año del 2015"
   ]
  },
  {
   "cell_type": "code",
   "execution_count": 165,
   "metadata": {},
   "outputs": [
    {
     "data": {
      "text/plain": [
       "0.14772298666739592"
      ]
     },
     "execution_count": 165,
     "metadata": {},
     "output_type": "execute_result"
    }
   ],
   "source": [
    "#Cálculo de error entre serie IDEAM y serie NREL\n",
    "MBE (serie_1corta_valledupar,serie_final_agnovalledupar)"
   ]
  },
  {
   "cell_type": "markdown",
   "metadata": {},
   "source": [
    "Para Valledupar, con respecto al cálculo de la ENFICC, se puede observar que para el caso del fenomeno de la niña, la ENFICC es menor al ajustar la serie teniendo como base mayor numero de meses como referencia para ajustar la serie de NREL, y que este valor es mayor para el periodo donde se presentó el fenómeno del niño. Gráficamente se puede observar que la calidad del ajuste no depende de la cantidad de meses que se tenga en cuenta como base para el cálculo. Esto se ve reflejado en la magnitud de los errores calculados, se ve que los porcentajes de error son muy similares entre si, sin depender de la cantidad de tiempo estudiada. Adicionalmente, se puede ver que en la mayoria del tiempo, se esta sobrestimando la radiación en los casos donde estuvo presente el fenónemo de la niña, y subestimandola para el periodo donde se presento el fenomeno del niño."
   ]
  }
 ],
 "metadata": {
  "kernelspec": {
   "display_name": "Python 3.6",
   "language": "python",
   "name": "python36"
  },
  "language_info": {
   "codemirror_mode": {
    "name": "ipython",
    "version": 3
   },
   "file_extension": ".py",
   "mimetype": "text/x-python",
   "name": "python",
   "nbconvert_exporter": "python",
   "pygments_lexer": "ipython3",
   "version": "3.6.3"
  }
 },
 "nbformat": 4,
 "nbformat_minor": 2
}
