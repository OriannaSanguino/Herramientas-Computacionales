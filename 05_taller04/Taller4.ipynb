{
 "cells": [
  {
   "cell_type": "markdown",
   "metadata": {
    "collapsed": true
   },
   "source": [
    "# TALLER 4"
   ]
  },
  {
   "cell_type": "markdown",
   "metadata": {},
   "source": [
    "Orianna Sanguino \n",
    "\n",
    "201413158"
   ]
  },
  {
   "cell_type": "code",
   "execution_count": 1,
   "metadata": {},
   "outputs": [],
   "source": [
    "import matplotlib.pyplot as plt\n",
    "import numpy as np"
   ]
  },
  {
   "cell_type": "code",
   "execution_count": 2,
   "metadata": {},
   "outputs": [
    {
     "name": "stdout",
     "output_type": "stream",
     "text": [
      "Populating the interactive namespace from numpy and matplotlib\n"
     ]
    }
   ],
   "source": [
    "%pylab inline"
   ]
  },
  {
   "cell_type": "code",
   "execution_count": 31,
   "metadata": {},
   "outputs": [],
   "source": [
    "L=20\n",
    "n=128"
   ]
  },
  {
   "cell_type": "code",
   "execution_count": 36,
   "metadata": {},
   "outputs": [],
   "source": [
    "a= -L/2\n",
    "b= L/2\n",
    "c=n+1"
   ]
  },
  {
   "cell_type": "code",
   "execution_count": 39,
   "metadata": {},
   "outputs": [],
   "source": [
    "x2= np.linspace (a,b,c)"
   ]
  },
  {
   "cell_type": "code",
   "execution_count": 40,
   "metadata": {},
   "outputs": [
    {
     "data": {
      "text/plain": [
       "array([-10.     ,  -9.84375,  -9.6875 ,  -9.53125,  -9.375  ,  -9.21875,\n",
       "        -9.0625 ,  -8.90625,  -8.75   ,  -8.59375,  -8.4375 ,  -8.28125,\n",
       "        -8.125  ,  -7.96875,  -7.8125 ,  -7.65625,  -7.5    ,  -7.34375,\n",
       "        -7.1875 ,  -7.03125,  -6.875  ,  -6.71875,  -6.5625 ,  -6.40625,\n",
       "        -6.25   ,  -6.09375,  -5.9375 ,  -5.78125,  -5.625  ,  -5.46875,\n",
       "        -5.3125 ,  -5.15625,  -5.     ,  -4.84375,  -4.6875 ,  -4.53125,\n",
       "        -4.375  ,  -4.21875,  -4.0625 ,  -3.90625,  -3.75   ,  -3.59375,\n",
       "        -3.4375 ,  -3.28125,  -3.125  ,  -2.96875,  -2.8125 ,  -2.65625,\n",
       "        -2.5    ,  -2.34375,  -2.1875 ,  -2.03125,  -1.875  ,  -1.71875,\n",
       "        -1.5625 ,  -1.40625,  -1.25   ,  -1.09375,  -0.9375 ,  -0.78125,\n",
       "        -0.625  ,  -0.46875,  -0.3125 ,  -0.15625,   0.     ,   0.15625,\n",
       "         0.3125 ,   0.46875,   0.625  ,   0.78125,   0.9375 ,   1.09375,\n",
       "         1.25   ,   1.40625,   1.5625 ,   1.71875,   1.875  ,   2.03125,\n",
       "         2.1875 ,   2.34375,   2.5    ,   2.65625,   2.8125 ,   2.96875,\n",
       "         3.125  ,   3.28125,   3.4375 ,   3.59375,   3.75   ,   3.90625,\n",
       "         4.0625 ,   4.21875,   4.375  ,   4.53125,   4.6875 ,   4.84375,\n",
       "         5.     ,   5.15625,   5.3125 ,   5.46875,   5.625  ,   5.78125,\n",
       "         5.9375 ,   6.09375,   6.25   ,   6.40625,   6.5625 ,   6.71875,\n",
       "         6.875  ,   7.03125,   7.1875 ,   7.34375,   7.5    ,   7.65625,\n",
       "         7.8125 ,   7.96875,   8.125  ,   8.28125,   8.4375 ,   8.59375,\n",
       "         8.75   ,   8.90625,   9.0625 ,   9.21875,   9.375  ,   9.53125,\n",
       "         9.6875 ,   9.84375,  10.     ])"
      ]
     },
     "execution_count": 40,
     "metadata": {},
     "output_type": "execute_result"
    }
   ],
   "source": [
    "x2"
   ]
  },
  {
   "cell_type": "code",
   "execution_count": 57,
   "metadata": {},
   "outputs": [],
   "source": [
    "for x2 in range (1,n): \n",
    "    u= exp(-x2*x2)"
   ]
  },
  {
   "cell_type": "code",
   "execution_count": 58,
   "metadata": {},
   "outputs": [
    {
     "data": {
      "text/plain": [
       "0.0"
      ]
     },
     "execution_count": 58,
     "metadata": {},
     "output_type": "execute_result"
    }
   ],
   "source": [
    "u"
   ]
  },
  {
   "cell_type": "code",
   "execution_count": 59,
   "metadata": {},
   "outputs": [
    {
     "ename": "TypeError",
     "evalue": "'module' object is not callable",
     "output_type": "error",
     "traceback": [
      "\u001b[0;31m---------------------------------------------------------------------------\u001b[0m",
      "\u001b[0;31mTypeError\u001b[0m                                 Traceback (most recent call last)",
      "\u001b[0;32m<ipython-input-59-b40143c0eee1>\u001b[0m in \u001b[0;36m<module>\u001b[0;34m()\u001b[0m\n\u001b[0;32m----> 1\u001b[0;31m \u001b[0mut\u001b[0m\u001b[0;34m=\u001b[0m \u001b[0mnp\u001b[0m\u001b[0;34m.\u001b[0m\u001b[0mfft\u001b[0m\u001b[0;34m(\u001b[0m\u001b[0mu\u001b[0m\u001b[0;34m)\u001b[0m\u001b[0;34m\u001b[0m\u001b[0m\n\u001b[0m",
      "\u001b[0;31mTypeError\u001b[0m: 'module' object is not callable"
     ]
    }
   ],
   "source": [
    "ut= np.fft(u)"
   ]
  },
  {
   "cell_type": "code",
   "execution_count": 60,
   "metadata": {},
   "outputs": [
    {
     "ename": "NameError",
     "evalue": "name 'ut' is not defined",
     "output_type": "error",
     "traceback": [
      "\u001b[0;31m---------------------------------------------------------------------------\u001b[0m",
      "\u001b[0;31mNameError\u001b[0m                                 Traceback (most recent call last)",
      "\u001b[0;32m<ipython-input-60-c772b14b68a4>\u001b[0m in \u001b[0;36m<module>\u001b[0;34m()\u001b[0m\n\u001b[0;32m----> 1\u001b[0;31m \u001b[0mutshift\u001b[0m\u001b[0;34m=\u001b[0m \u001b[0mnp\u001b[0m\u001b[0;34m.\u001b[0m\u001b[0mfft\u001b[0m\u001b[0;34m.\u001b[0m\u001b[0mfftshift\u001b[0m\u001b[0;34m(\u001b[0m\u001b[0mut\u001b[0m\u001b[0;34m)\u001b[0m\u001b[0;34m\u001b[0m\u001b[0m\n\u001b[0m",
      "\u001b[0;31mNameError\u001b[0m: name 'ut' is not defined"
     ]
    }
   ],
   "source": [
    "utshift= np.fft.fftshift(ut)"
   ]
  },
  {
   "cell_type": "code",
   "execution_count": 61,
   "metadata": {},
   "outputs": [
    {
     "data": {
      "text/plain": [
       "[<matplotlib.lines.Line2D at 0x7f4cd7b4fcf8>]"
      ]
     },
     "execution_count": 61,
     "metadata": {},
     "output_type": "execute_result"
    },
    {
     "data": {
      "image/png": "[encoded data removed]",
      "text/plain": [
       "<matplotlib.figure.Figure at 0x7f4cd9d87080>"
      ]
     },
     "metadata": {},
     "output_type": "display_data"
    }
   ],
   "source": [
    "plot (x,u)"
   ]
  },
  {
   "cell_type": "code",
   "execution_count": 62,
   "metadata": {},
   "outputs": [
    {
     "ename": "NameError",
     "evalue": "name 'ut' is not defined",
     "output_type": "error",
     "traceback": [
      "\u001b[0;31m---------------------------------------------------------------------------\u001b[0m",
      "\u001b[0;31mNameError\u001b[0m                                 Traceback (most recent call last)",
      "\u001b[0;32m<ipython-input-62-adba93102b19>\u001b[0m in \u001b[0;36m<module>\u001b[0;34m()\u001b[0m\n\u001b[0;32m----> 1\u001b[0;31m \u001b[0mplot\u001b[0m \u001b[0;34m(\u001b[0m\u001b[0mabs\u001b[0m \u001b[0;34m(\u001b[0m\u001b[0mut\u001b[0m\u001b[0;34m)\u001b[0m\u001b[0;34m)\u001b[0m\u001b[0;34m\u001b[0m\u001b[0m\n\u001b[0m",
      "\u001b[0;31mNameError\u001b[0m: name 'ut' is not defined"
     ]
    }
   ],
   "source": [
    "plot (abs (ut))"
   ]
  },
  {
   "cell_type": "code",
   "execution_count": null,
   "metadata": {},
   "outputs": [],
   "source": []
  }
 ],
 "metadata": {
  "kernelspec": {
   "display_name": "Python 3.6",
   "language": "python",
   "name": "python36"
  },
  "language_info": {
   "codemirror_mode": {
    "name": "ipython",
    "version": 3
   },
   "file_extension": ".py",
   "mimetype": "text/x-python",
   "name": "python",
   "nbconvert_exporter": "python",
   "pygments_lexer": "ipython3",
   "version": "3.6.3"
  }
 },
 "nbformat": 4,
 "nbformat_minor": 2
}
